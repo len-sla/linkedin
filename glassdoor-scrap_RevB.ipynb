{
 "cells": [
  {
   "cell_type": "raw",
   "metadata": {},
   "source": [
    "Notebook is doing  couple of usefull things and is divided on universal fuctions whicht except scrapping part could be used elsewhere\n",
    "\n",
    "Main purpose is to get list of the interesting jobs as a  pandas dataframe saved on *.h5 file for later use/comparison with the help of \n",
    "BeautifulSoup, re\n",
    "\n",
    "to achieve that you need to define start webpage(start_url) with name of the jobs/place you are looking for \n",
    "Functions inside are \n",
    "\n",
    "Then datafraframe is saved with datastamp and compared to last saved df to check what is new\n",
    "\n",
    "Rev_B 13_08-2020\n",
    "Glassdoor changed the structure of the webpage a bit.\n",
    "To be able  create summary of of weblinks there is a small change in scrapping part:\n",
    "class \"jobInfoItem jobTitle css-13w0lq6 eigr9kq1 jobLink\" is used to find joblinks.\n",
    "There are some extras like saving results of comparison to md files for quick review"
   ]
  },
  {
   "cell_type": "code",
   "execution_count": 1,
   "metadata": {},
   "outputs": [],
   "source": [
    "# from bs4 import BeautifulSoup\n",
    "\n",
    "from bs4 import BeautifulSoup\n",
    "from urllib.request import Request, urlopen\n",
    "\n",
    "import pandas as pd\n",
    "import numpy  as np \n",
    "import re\n",
    "import datetime\n",
    "import os,glob\n",
    "import json\n",
    "from json.decoder import JSONDecodeError"
   ]
  },
  {
   "cell_type": "code",
   "execution_count": 2,
   "metadata": {},
   "outputs": [],
   "source": [
    "# preparing list of existing(previously created by scrapping) pandas linkedin .h5 files\n",
    "search_dir = \"/home/lubuntu/scrap/glass/\" #directory where from where h5 is read s\n",
    "def list_per_time(search_dir=search_dir):\n",
    "    files = [x for x in (filter(os.path.isfile, glob.glob(search_dir + \"glassdoor*.h5\"))) ] \n",
    "    files_sorted= sorted(files, key=os.path.getmtime)\n",
    "    print(files_sorted[:10])\n",
    "    return files_sorted"
   ]
  },
  {
   "cell_type": "code",
   "execution_count": null,
   "metadata": {},
   "outputs": [],
   "source": []
  },
  {
   "cell_type": "code",
   "execution_count": 3,
   "metadata": {},
   "outputs": [],
   "source": [
    "# start web address \n",
    "start_url= 'https://www.glassdoor.com/Job/berlin-biotechnology-jobs-SRCH_IL.0,6_IC2622109_KE7,20.htm?fromAge=3'"
   ]
  },
  {
   "cell_type": "code",
   "execution_count": null,
   "metadata": {},
   "outputs": [],
   "source": []
  },
  {
   "cell_type": "code",
   "execution_count": 4,
   "metadata": {},
   "outputs": [],
   "source": [
    "# makes the source tree format like\n",
    "\n",
    "def beautify(url):\n",
    "    hdr = {'User-Agent': 'Marozilla/5.0'}\n",
    "    req = Request(url,headers=hdr)\n",
    "    page = urlopen(req)\n",
    "\n",
    "    return BeautifulSoup(page, \"html.parser\")"
   ]
  },
  {
   "cell_type": "code",
   "execution_count": 5,
   "metadata": {},
   "outputs": [],
   "source": [
    "jobs = beautify(start_url)\n",
    "#retrieving information how many pages with jobs ads are\n",
    "def how_many_pages(start_url):\n",
    "    how_many_pages_job= jobs.findAll('div', {'class' : \"cell middle hideMob padVertSm\"})\n",
    "    for x, result in enumerate(how_many_pages_job):\n",
    "        print('last page is --->', result.text[-2:])\n",
    "    return result.text[-2:]"
   ]
  },
  {
   "cell_type": "code",
   "execution_count": 6,
   "metadata": {},
   "outputs": [
    {
     "name": "stdout",
     "output_type": "stream",
     "text": [
      "last page is --->  1\n"
     ]
    },
    {
     "data": {
      "text/plain": [
       "' 1'"
      ]
     },
     "execution_count": 6,
     "metadata": {},
     "output_type": "execute_result"
    }
   ],
   "source": [
    "pages=how_many_pages(start_url)\n",
    "pages"
   ]
  },
  {
   "cell_type": "code",
   "execution_count": 7,
   "metadata": {},
   "outputs": [],
   "source": [
    "start_urls=[]# based on the number of summary webpages we generate their names in the table to later check\n",
    "def gen_table_urls(start_url, pages ): #based on number of pages with links function should generate web addres for every page\n",
    "    pp='&&p='\n",
    "    for i in range (int(pages)):\n",
    "#         print(i+1,'-->', start_url[:-14]+'_IP'+str(i+1)+start_url[-14:])\n",
    "        start_urls.append(start_url[:-14]+'_IP'+str(i+1)+start_url[-14:])\n",
    "        "
   ]
  },
  {
   "cell_type": "code",
   "execution_count": 8,
   "metadata": {},
   "outputs": [],
   "source": [
    "gen_table_urls(start_url, pages ) #table with wabpages to check is generated"
   ]
  },
  {
   "cell_type": "code",
   "execution_count": 9,
   "metadata": {},
   "outputs": [
    {
     "data": {
      "text/plain": [
       "['https://www.glassdoor.com/Job/berlin-biotechnology-jobs-SRCH_IL.0,6_IC2622109_KE7,20_IP1.htm?fromAge=3']"
      ]
     },
     "execution_count": 9,
     "metadata": {},
     "output_type": "execute_result"
    }
   ],
   "source": [
    "start_urls"
   ]
  },
  {
   "cell_type": "code",
   "execution_count": 10,
   "metadata": {},
   "outputs": [],
   "source": [
    "res = [] #table with all relevant links to jobs\n",
    "for x, job in enumerate(start_urls):\n",
    "    job = beautify(start_urls[x])\n",
    "\n",
    "    \n",
    "    jobs_links= job.findAll('a', {'class' : \"jobInfoItem jobTitle css-13w0lq6 eigr9kq1 jobLink\"})\n",
    "    \n",
    "    for y in jobs_links:\n",
    "        y_1='https://www.glassdoor.com'+y['href']\n",
    "#         print( y_1)\n",
    "        if y_1 not in res:\n",
    "            res.append(y_1)"
   ]
  },
  {
   "cell_type": "code",
   "execution_count": 11,
   "metadata": {},
   "outputs": [],
   "source": [
    "#========================================== old version of retrieving links to jobs using re  and filtering  https links\n",
    "# res = [] #table with all relevant links to jobs\n",
    "# for x, job in enumerate(start_urls):\n",
    "#     job = beautify(start_urls[x])\n",
    "#     j_links=job.findAll('a', attrs={'href': re.compile(\"^https://www.glassdoor.com/partner/jobListing.htm?\")}) #filtering links to webpages of selected jobs\n",
    "#     jobs_links = [link.get('href') for link in j_links] #creating a list of job links\n",
    "#     for i in jobs_links: \n",
    "#         if i not in res:\n",
    "#             res.append(i)\n"
   ]
  },
  {
   "cell_type": "code",
   "execution_count": 12,
   "metadata": {},
   "outputs": [
    {
     "name": "stdout",
     "output_type": "stream",
     "text": [
      "There are -->  15 jobs and links\n"
     ]
    }
   ],
   "source": [
    "print('There are --> ',len(res), 'jobs and links')"
   ]
  },
  {
   "cell_type": "code",
   "execution_count": 13,
   "metadata": {},
   "outputs": [],
   "source": [
    "#patterns to remove from description\n",
    "clean_patterns= ['&lt;', '/&gt', ';br',';li',';/ul','li&gt;', 'h2&gt;', 'ul&gt;', 'br ;', '/', 'div&gt;', 'h3&gt;', 'h4&gt;' ] "
   ]
  },
  {
   "cell_type": "code",
   "execution_count": 14,
   "metadata": {},
   "outputs": [],
   "source": [
    "description='XXXXXXX' #when there is problem with reading field with job description to be able go further fill with XXXXXX"
   ]
  },
  {
   "cell_type": "code",
   "execution_count": 15,
   "metadata": {},
   "outputs": [],
   "source": [
    "def clean_job_descri(description=description, clean_patterns=clean_patterns): # function which is cleaning job description from tags defined before\n",
    "    \n",
    "    for x,clean in enumerate(clean_patterns):\n",
    "#         print(x)\n",
    "        pattern=re.compile(clean_patterns[x])\n",
    "        description= pattern.sub(\" \", description)\n",
    "    pattern=re.compile(r\"strong&gt;\")\n",
    "    description= pattern.sub(\"\\n\\n *---*\", description)\n",
    "#     print(description)\n",
    "    return description"
   ]
  },
  {
   "cell_type": "code",
   "execution_count": 16,
   "metadata": {},
   "outputs": [],
   "source": [
    "    def create_empty_record(job_dict): #when there is a problem with urls fill record with default data so the scrapping is going further\n",
    "                      \n",
    "        description=job_dict\n",
    "#         job_descr=clean_job_descri(description)\n",
    "        job_name = 'XXXXXXX'\n",
    "        company_name = 'XXXXXXX'\n",
    "        job_descr=job_name\n",
    "        timestamp = datetime.datetime.now()\n",
    "        datePosted = '2020-07-01'\n",
    "        validThrough = '2020-07-01'\n",
    "        job_url = 'url'\n",
    "        place_name='addressLocality'\n",
    "        place_name_region = 'addressRegion'\n",
    "        latitude = '52.5177'\n",
    "        longitude = '13.4055'\n",
    "        employmentType = 'UNKNOWN'\n",
    "        return job_name, company_name, job_descr, timestamp, datePosted, validThrough, job_url, place_name, place_name_region, latitude, longitude, employmentType"
   ]
  },
  {
   "cell_type": "code",
   "execution_count": 17,
   "metadata": {},
   "outputs": [],
   "source": [
    "    #collecting information from dictionary like structure\n",
    "    def create_record(job_dict):\n",
    "                      \n",
    "        description=job_dict['description']\n",
    "        clean_job_descri(description)  \n",
    "        job_name = job_dict['title']\n",
    "        company_name = job_dict['hiringOrganization']['name']\n",
    "        job_descr=clean_job_descri(description)\n",
    "        timestamp = datetime.datetime.now()\n",
    "        datePosted = job_dict['datePosted']\n",
    "        validThrough = job_dict['validThrough']\n",
    "        job_url = job_dict['url']\n",
    "        place_name=job_dict['jobLocation']['address']['addressLocality']\n",
    "        place_name_region = job_dict['jobLocation']['address']['addressRegion']\n",
    "        latitude = job_dict['jobLocation']['geo']['latitude']\n",
    "        longitude = job_dict['jobLocation']['geo']['longitude']\n",
    "        employmentType = job_dict['employmentType']\n",
    "        return job_name, company_name, job_descr, timestamp, datePosted, validThrough, job_url, place_name, place_name_region, latitude, longitude, employmentType"
   ]
  },
  {
   "cell_type": "code",
   "execution_count": 18,
   "metadata": {},
   "outputs": [],
   "source": [
    "def get_job_record(url): #retrieving information from webpages if there are some json errors on url  using create_emty_record_function\n",
    "    j = beautify(url)\n",
    "    try:\n",
    "        job_dict=json.loads(r\"\".join(j.find(\"script\", {\"type\":\"application/ld+json\"}).contents), strict=False) #there is there job description location etc\n",
    "        job_name, company_name, job_descr, timestamp, datePosted, validThrough, job_url, place_name, place_name_region, latitude, longitude, employmentType=create_record(job_dict)\n",
    "    except JSONDecodeError as e:\n",
    "        print('there was some json error with url:', url)\n",
    "        job_dict=j.find(\"script\", {\"type\":\"application/ld+json\"}).contents\n",
    "        job_name, company_name, job_descr, timestamp, datePosted, validThrough, job_url, place_name, place_name_region, latitude, longitude, employmentType=create_empty_record(job_dict)\n",
    "\n",
    "        \n",
    "\n",
    "        \n",
    "    return job_name, company_name, job_descr, timestamp, datePosted, validThrough, job_url, place_name, place_name_region, latitude, longitude, employmentType\n",
    "        \n",
    "        "
   ]
  },
  {
   "cell_type": "code",
   "execution_count": 19,
   "metadata": {},
   "outputs": [],
   "source": [
    "# =================================temporary  tables to store  info from webpages\n",
    "job=[] #ok\n",
    "company=[] #ok\n",
    "place=[] #ok\n",
    "job_d=[] #ok\n",
    "time_s=[] #ok\n",
    "datePosted_t=[] #ok\n",
    "validThrough_t=[] #ok\n",
    "job_url_t=[] #ok\n",
    "place_name_region_t =[]#ok\n",
    "latitude_t =[]#ok\n",
    "longitude_t =[]#ok\n",
    "employmentType_t =[]"
   ]
  },
  {
   "cell_type": "code",
   "execution_count": 20,
   "metadata": {},
   "outputs": [],
   "source": [
    "# populating tables above with data from particular jobs\n",
    "def populate_temp_tables(url_list):\n",
    "       \n",
    "    for x,url in enumerate(url_list):\n",
    "        job_name, company_name, job_descr, timestamp, datePosted, validThrough, job_url, place_name, place_name_region, latitude, longitude, employmentType = get_job_record(url)\n",
    "        print(x+1,'-->',url)\n",
    "        job.append(job_name)\n",
    "        company.append(company_name)        \n",
    "        job_d.append(job_descr)\n",
    "        time_s.append(timestamp)\n",
    "        datePosted_t.append(datePosted)\n",
    "        validThrough_t.append(validThrough)\n",
    "        job_url_t.append(job_url)\n",
    "        place.append(place_name)\n",
    "        place_name_region_t.append(place_name_region)\n",
    "        latitude_t.append(latitude)\n",
    "        longitude_t.append(longitude)\n",
    "        \n",
    "    return job, company, place, job_d, time_s, datePosted_t, validThrough_t, job_url_t, place_name_region_t, latitude_t, longitude_t, employmentType_t\n",
    " "
   ]
  },
  {
   "cell_type": "markdown",
   "metadata": {},
   "source": [
    "=========================================================================================="
   ]
  },
  {
   "cell_type": "code",
   "execution_count": 21,
   "metadata": {
    "scrolled": true
   },
   "outputs": [
    {
     "name": "stdout",
     "output_type": "stream",
     "text": [
      "1 --> https://www.glassdoor.com/partner/jobListing.htm?pos=101&ao=837211&s=58&guid=00000173e6f41a259109bad2e92695f1&src=GD_JOB_AD&t=SR&vt=w&cs=1_b175fdec&cb=1597307624104&jobListingId=3645441864\n",
      "2 --> https://www.glassdoor.com/partner/jobListing.htm?pos=102&ao=986486&s=58&guid=00000173e6f41a259109bad2e92695f1&src=GD_JOB_AD&t=SR&vt=w&cs=1_37565ac8&cb=1597307624104&jobListingId=3537103654\n",
      "3 --> https://www.glassdoor.com/partner/jobListing.htm?pos=103&ao=437149&s=58&guid=00000173e6f41a259109bad2e92695f1&src=GD_JOB_AD&t=SR&vt=w&cs=1_c8289226&cb=1597307624108&jobListingId=3270331462\n",
      "4 --> https://www.glassdoor.com/partner/jobListing.htm?pos=104&ao=437149&s=58&guid=00000173e6f41a259109bad2e92695f1&src=GD_JOB_AD&t=SR&vt=w&cs=1_9a782265&cb=1597307624106&jobListingId=3601032394\n",
      "5 --> https://www.glassdoor.com/partner/jobListing.htm?pos=105&ao=4134&s=58&guid=00000173e6f41a259109bad2e92695f1&src=GD_JOB_AD&t=SR&vt=w&cs=1_a9f48a86&cb=1597307624111&jobListingId=3602915822\n",
      "6 --> https://www.glassdoor.com/partner/jobListing.htm?pos=106&ao=437149&s=58&guid=00000173e6f41a259109bad2e92695f1&src=GD_JOB_AD&t=SR&vt=w&cs=1_4d6211ec&cb=1597307624112&jobListingId=3270331472\n",
      "7 --> https://www.glassdoor.com/partner/jobListing.htm?pos=107&ao=837211&s=58&guid=00000173e6f41a259109bad2e92695f1&src=GD_JOB_AD&t=SR&vt=w&cs=1_dd15dc2c&cb=1597307624107&jobListingId=3645441878\n",
      "8 --> https://www.glassdoor.com/partner/jobListing.htm?pos=108&ao=14295&s=58&guid=00000173e6f41a259109bad2e92695f1&src=GD_JOB_AD&t=SR&vt=w&cs=1_d6aca29b&cb=1597307624107&jobListingId=3622906305\n",
      "9 --> https://www.glassdoor.com/partner/jobListing.htm?pos=109&ao=191997&s=58&guid=00000173e6f41a259109bad2e92695f1&src=GD_JOB_AD&t=SR&vt=w&cs=1_b4e036c7&cb=1597307624107&jobListingId=3646103402\n",
      "10 --> https://www.glassdoor.com/partner/jobListing.htm?pos=110&ao=437149&s=58&guid=00000173e6f41a259109bad2e92695f1&src=GD_JOB_AD&t=SR&vt=w&cs=1_7097a62a&cb=1597307624108&jobListingId=3645950523\n",
      "11 --> https://www.glassdoor.com/partner/jobListing.htm?pos=111&ao=837211&s=58&guid=00000173e6f41a259109bad2e92695f1&src=GD_JOB_AD&t=SR&vt=w&cs=1_9db22b66&cb=1597307624108&jobListingId=3645441863\n",
      "12 --> https://www.glassdoor.com/partner/jobListing.htm?pos=112&ao=837211&s=58&guid=00000173e6f41a259109bad2e92695f1&src=GD_JOB_AD&t=SR&vt=w&cs=1_d1f86b4f&cb=1597307624108&jobListingId=3645441889\n",
      "13 --> https://www.glassdoor.com/partner/jobListing.htm?pos=113&ao=837211&s=58&guid=00000173e6f41a259109bad2e92695f1&src=GD_JOB_AD&t=SR&vt=w&cs=1_5382f4f7&cb=1597307624108&jobListingId=3645441875\n",
      "14 --> https://www.glassdoor.com/partner/jobListing.htm?pos=114&ao=837211&s=58&guid=00000173e6f41a259109bad2e92695f1&src=GD_JOB_AD&t=SR&vt=w&cs=1_77c07544&cb=1597307624110&jobListingId=3645441867\n",
      "15 --> https://www.glassdoor.com/partner/jobListing.htm?pos=115&ao=837211&s=58&guid=00000173e6f41a259109bad2e92695f1&src=GD_JOB_AD&t=SR&vt=w&cs=1_2e6ddd55&cb=1597307624110&jobListingId=3645441881\n"
     ]
    },
    {
     "data": {
      "text/plain": [
       "(['Project Manager (m/f/d) - IVDR for CDD Biomarkers, Location Hennigsdorf',\n",
       "  '1648 - Director of Business Development',\n",
       "  'Clinical Research Associate',\n",
       "  'AI Research Associate (m/f/d) - Full-time in Karlsruhe/Freiburg/Tübingen/Stuttgart',\n",
       "  'Freelance QP/RP Consultant',\n",
       "  'Clinical Project Manager',\n",
       "  'CDD Staff Scientist (m/f/d) Location: Hennigsdorf',\n",
       "  'Freelancer Manual Transcription (Germany Based)',\n",
       "  'Laboratory Technician (m/w/d) - Gigafactory Berlin',\n",
       "  'Associate Scientist (m/w/d) Upstream Development',\n",
       "  'Studienkoordinator / Clinical Trial Coordinator (m/w/d) Standort Hennigsdorf',\n",
       "  'CDD Staff Scientist (m/f/d)',\n",
       "  'Project Manager (m/f/d) - IVDR for CDD Biomarkers',\n",
       "  'Studienkoordinator / Clinical Trial Coordinator (m/w/d) Standort Hennigsdorf (Berlin)',\n",
       "  'Studienkoordinator / Clinical Trial Coordinator (m/w/d)'],\n",
       " ['Thermo Fisher Scientific',\n",
       "  'Certara',\n",
       "  'Meditrial Europe Ltd.',\n",
       "  'Smart Steel Technologies GmbH',\n",
       "  'ProPharma Group',\n",
       "  'Meditrial Europe Ltd.',\n",
       "  'Thermo Fisher Scientific',\n",
       "  'LabTwin',\n",
       "  'Tesla',\n",
       "  'UGA Biopharma GmbH',\n",
       "  'Thermo Fisher Scientific',\n",
       "  'Thermo Fisher Scientific',\n",
       "  'Thermo Fisher Scientific',\n",
       "  'Thermo Fisher Scientific',\n",
       "  'Thermo Fisher Scientific'],\n",
       " ['Berlin',\n",
       "  'Berlin',\n",
       "  'Berlin',\n",
       "  'Berlin',\n",
       "  'Berlin',\n",
       "  'Berlin',\n",
       "  'Berlin',\n",
       "  'Berlin',\n",
       "  'Grunheide (Mark)',\n",
       "  'Hennigsdorf',\n",
       "  'Berlin',\n",
       "  'Hennigsdorf',\n",
       "  'Hennigsdorf',\n",
       "  'Potsdam',\n",
       "  'Hennigsdorf'],\n",
       " ['Thermo Fisher Scientific Inc. is the world leader in serving science, with annual revenue exceeding $25 billion. Our Mission is to enable our customers to make the world healthier, cleaner and safer. Whether our customers are accelerating life sciences research, solving complex analytical challenges, improving patient diagnostics and therapies or increasing productivity in their laboratories, we are here to support them. Our global team of more than 75,000 colleagues delivers an unrivaled combination of innovative technologies, purchasing convenience and pharmaceutical services through our industry-leading brands, including Thermo Scientific, Applied Biosystems, Invitrogen, Fisher Scientific, Unity Lab Services and Patheon.\\n    \\nAs one of the largest biotechnology companies in Germany, we research, develop and produce innovative biomarker diagnostics and distribute our products in more than 65 countries. B*R*A*H*M*S is based in Hennigsdorf near Berlin, which is home to about 285 of the company&amp;rsquo;s 550 employees worldwide.\\n    \\nFor our R&amp;amp;D PMO team we are looking for you as our new\\n    \\n \\n\\n *---*Project Manager (m f d) &amp;ndash; IVDR for CDD Biomarkers  \\n\\n *---*\\n    \\nRegion Hennigsdorf Berlin\\n    \\nThis position is responsible for leading the implementation of the new European IVD regulation for the B.R.A.H.M.S. Biomarker Business Unit of Thermo Fisher Scientific&amp;lsquo;s Clinical Diagnostics Division, at a later point leading new product development teams. It requires significant cross-functional coordination and leadership, excellent written and communication skills, and the ability to drive collaboration and decision making with all key stakeholders. The ideal candidate will have strong Project Management skills, be interested to work internationally, able to understand business strategy, regulation and quality systems, diagnostic technology and clinical applications, able to focus at a detailed level and being comfortable interacting with senior executives and project team members alike. We need a passionate Project Manager who will deliver execution excellence, making optimal use of the Thermo Fisher Scientific Phase Gate and other processes. Come help the Thermo Fisher Scientific team deliver world-class products and solutions to our customers to make the world healthier.\\n    \\n \\n\\n *---*A Project Manager&amp;rsquo;s role at Thermo Fisher Scientific   CDD Biomarkers means  \\n\\n *---*\\n\\n  \\n  To manage higher complexity, cross-functional initiatives such as the implementation of IVD R and new product development.   \\n  Representing and leading project teams at our two locations in Hennigsdorf, Germany and Nimes, France through the Phase gate process, managing scope, schedule, risks, issues, trade-offs, decision making, communications, and expectations.    \\n   \\n \\n\\n *---*Your Qualification  \\n\\n *---*\\n\\n  \\n  Bachelor&amp;rsquo;s degree (B.S. B.A.) minimum, preferably in a scientific technical discipline (e.g. biology, chemistry, engineering).   \\n  Minimum of 4 years of experience combined between project management and product development, preferably in the life sciences or health care industries.   \\n  PMP certification preferred.   \\n  Familiarity with In Vitro Diagnostics, Design Control Quality Systems and Immunoassays is a plus.   \\n  Excellent interpersonal and relationship building skills   \\n  Excellent leadership skills and the ability to influence stakeholders in other functions over whom the Project Manager has no direct managing authority.   \\n  Excellent oral and written English communication skills.   \\n   \\n \\n\\n *---*We offer  \\n\\n *---*\\n\\n  \\n  Employment with an innovative, future-oriented, international organization.   \\n  Exciting company culture which stands for integrity, intensity, involvement and innovation.   \\n  Outstanding career and development prospects.   \\n  Company pension scheme.   \\n   \\nAt Thermo Fisher Scientific, each one of our 75,000 extraordinary minds has a unique story to tell. Join us and contribute to our singular mission.',\n",
       "  '  \\nLocations: London, United Kingdom or Amsterdam, Netherlands Preferred\\n    \\nCentral Europe will be considered.\\n    \\n \\n\\n *---*Certara company overview: Certara is the global leader in advancing modern, efficient drug development.  \\n\\n *---*\\n    \\nWe provide proven modeling&amp;amp; simulation, regulatory and real-world value assessment software platforms and services. In partnership with our clients, we help reduce clinical trial burden, accelerate regulatory approval and increase patient access to medicines.\\n    \\n \\n\\n *---*Synchrogenix, A Certara Company overview: Achieving Regulatory Success  \\n\\n *---*\\n    \\nAs Certara&amp;rsquo;s Regulatory Science division, Synchrogenix accelerates the regulatory submissions of medical innovations worldwide through customized regulatory solutions, including strategy, communications, operations and technology. Synchrogenix is comprised of some of the most respected talent in the industry, including thought leaders, writers and editors, and regulatory submissions specialists. \\n\\n *---*Our people are talented, quality-minded, and client and stakeholder-oriented.  \\n\\n *---*\\n    \\nSynchrogenix&#039;s people are at the core of our success, and our most successful people are:\\n  \\n   \\n\\n *---*collaborative  \\n\\n *---* and value being part of a team       \\n\\n *---*experts  \\n\\n *---* with a thirst for continued learning       \\n\\n *---*consultative  \\n\\n *---* with an ability to articulate process and expertise       \\n\\n *---*deadline-driven  \\n\\n *---* and able to operate in a fast-paced environment    \\n   \\n \\n\\n *---*Position Overview:  \\n\\n *---*\\n    \\nAs an integral member of our business development team, your work as Director of Business Development, will involve identifying and building relationships with key decision makers both internally and externally. In this role, you will engage with potential customers to illustrate the competitive advantage that Synchrogenix brings through its regulatory strategy consulting, strategic cross-functional guidance and comprehensive implementation, submission leadership, services, and technology enabled services. The Director of Business Development is able to represent the entire range of Synchrogenix solutions within the Pharmaceutical, Biotechnology and Medical Device industries to companies of all sizes. This is a highly consultative role requiring the Director of Business Development to uncover customer needs through a deep understanding of their corporate, program-specific, and personal goals and design a customizable solution. The Director of Business Development will work closely with the Executive Director-Commercial to develop the appropriate strategy for discovering new business opportunities, inform proposal creation, and work as a member of the larger Business Development and Marketing team. The ideal candidate has a passion for our industry, is solution-oriented, a creative problem solver, and has a tenacious desire to close deals.\\n    \\n \\n\\n *---*New Prospect Relationship Building and Opportunity Development  \\n\\n *---*\\n  \\n  Establishes productive, professional relationships with key decision-making personnel in the assigned prospect organization      Informs proposal and price quotation development efforts that best address the prospect&amp;rsquo;s needs, while coordinating the involvement of all necessary Synchrogenix personnel. Delivers and negotiates proposals and other legal agreements required to achieve sales targets while maintaining appropriate margin levels for each opportunity.      Presents new solutions and professional service options to prospects by identifying best-fit opportunities for Synchrogenix solutions and Professional Service offerings against the prospect&amp;rsquo;s Need-to-Buy, and by developing strategies to communicate an appropriate, compelling message to the prospect.      Coordinates the seamless transition of newly contracted and existing accounts to the Professional Services Implementation teams respectively.      Sales Planning and an understanding of Resource Management to identify opportunities and close gaps      Proactively assesses, clarifies, and validates assigned prospects&amp;rsquo; needs on an ongoing basis.      Proactively informs the team as to progress against annual performance objectives, financial targets, and critical sales plan milestones.      Coordinates the involvement of Synchrogenix personnel, including Regulatory Services, Proposals and Contracts, and other Subject Matter Experts, and management resources, in order to meet sales performance objectives and prospects&amp;rsquo; expectations.    \\n   \\n \\n\\n *---*Key Performance Indicators (KPIs):  \\n\\n *---*\\n  \\n  Achieves assigned sales quota and qualitative goals.      Meets assigned expectations for profitability.      Achieves new prospect sales growth objectives defined by company management.      Completes sales development plans that meet company standards.      Ensures proper record keeping using available sales tools and Salesforce CRM systems.      Completes required training and development objectives within the assigned time frame.    \\n   \\n \\n\\n *---*Experience Skill Requirements  \\n\\n *---*\\n  \\n  BA BS degree required. Advanced degree preferred      Be located within the Netherlands, United Kingdom, or other western European Union countries      Be fluent in English. Additional language skills in French, German, Italian or Spanish are desirable       \\n\\n *---*Minimum 5-7 years of outside sales experience in a life sciences consultative business-to-business sales environment, focused on the regulatory life sciences in Europe (selling to Customer base of Pharmaceutical, Biotechnical and or Medical Device companies)  \\n\\n *---*       Prior track record of achievement in a Business Development position in regulatory life sciences      PC proficiency      All prospective employees must pass a background check      This position may require frequent travel      Candidates must have a valid driver&amp;rsquo;s license    \\n   \\n#LI-HM1\\n    \\n em&gt;Certara is an Equal Opportunity Employer. Certara does not discriminate on the basis of race, religion, color, sex, gender identity, sexual orientation, age, non-disqualifying physical or mental disability, national origin, veteran status or any other basis covered by appropriate law. All employment is decided on the basis of qualifications, merit, and business need.  em&gt;   ',\n",
       "  'Meditrial is a full-service contract research organization with a successful track record supporting medical device and biotechnology companies in all phases of clinical development. Operating throughout Europe to manage trials sponsored primarily by US Companies, we offer highest level expertise across multiple therapeutic areas including notable depth in cardiovascular and respiratory, orthopedics, oncology, CNS, infectious disease, endocrinology, diabetes, among other indications. We are passionate about our mission to support the innovation and development of better therapies in healthcare in compliance with solid ethical standards. Our commitment has resulted in excellent results for business growth by creating stability and opportunities for employees and collaborators.\\n    \\n \\n\\n *---*Clinical Research Associate:  \\n\\n *---*\\n  \\nMeditrial offers great opportunities for clinical research associates (CRAs), in Berlin. We offer attractive income potential, outstanding career progression and exposure to cutting-edge training and technology.\\n    \\nResponsabilities\\n  \\nConducting site initiation and investigator training\\n  \\nReviewing study case report forms (CRFs) completed by the investigative sites, and verifying entries by validating accurate source documentation to support CRF entries\\n  \\nDocumenting site visits and issues in reports and follow-up letters to the site\\n  \\nFacilitating effective communications among investigative sites, the client and Meditrial\\n  \\nIdentifying potential investigators in collaboration with the client\\n  \\nResponding to company, client and national regulatory requirements audits\\n  \\nContributing to the project team by assisting in project communications\\n    \\n \\n\\n *---*Qualifications  \\n\\n *---*\\n  \\nHigher or specialized secondary education degree in natural sciences\\n  \\nFamiliar with electronic CRF and CTMS systems\\n  \\n \\n\\n *---*Industry background:  \\n\\n *---* CRO outsourced services, Pharmaceuticals, Biotechnology\\n  \\nRecent experience in medical device clinical trials\\n  \\nFluency in the English language; native speaker of the country language',\n",
       "  'We are looking for an AI Research Scientist, who is willing to bridge the gap between academic research and applied AI at scale.\\n    \\nThe machine learning and data science we employ comes in several varieties: image processing, signal processing, classical supervised modeling, unsupervised methods, and fundamental statistics. Your results will be incorporated into our software, which is applied by large steel companies in order to optimize production processes, save energy and reduce CO 2 emissions.\\n    \\nYou will be part of a one-of-a-kind cross-disciplinary team, uniting the worlds of steel production and machine learning. Our team consists of a diverse set of academic and professional backgrounds: software development, computer science, mathematics, physics and metallurgy, with the goal to leverage this expertise through trust and cooperation. We want to foster an environment where team members have frequent opportunities to learn from each other in fields that they are not (yet) experts.\\n    \\n \\n\\n *---*ABOUT THE JOB  \\n\\n *---*\\n    \\nApply modern machine learning methods to optimization and quality problems industrial processes\\n  \\nDevelop, tune and optimize neural networks, both bespoke and pre-architected shallow, deep and recurrent\\n  \\nMaintain an up-to-date understanding of advances in machine learning and its implementations\\n  \\nContribute to software for online learning and prediction in industrial systems\\n    \\n \\n\\n *---*QUALIFICATIONS THAT CATCH OUR EYE  \\n\\n *---*\\n    \\nMaster&amp;rsquo;s or Ph.D. in Computer Science, Statistics, Mathematics, Physics or Engineering\\n  \\nRelevant publications in international conferences or peer reviewed journals\\n  \\nExperience in software engineering or operations, especially in a full-stack development environment\\n  \\nExperience in working with raw industrial datasets, especially with a variety of storage formats\\n  \\nFluency in German or Russian is a plus; English is required\\n    \\n \\n\\n *---*BENEFITS  \\n\\n *---*\\n    \\nBe a pioneer in the young research field of AI applications in steel production\\n  \\nHave a direct impact energy savings and CO 2 emission reduction in large steel companies\\n  \\nTransparency of business strategies\\n  \\nAutonomy balanced by responsibility\\n  \\nCohesive, multidisciplinary team\\n  \\nMeaningful industrial problems\\n  \\nModern machine learning techniques\\n  \\nProfessional educational opportunities\\n  \\nWork in a dynamic Start-Up environment where learning is key to develop',\n",
       "  'Company Description    ProPharma Group is an industry-leading, single-source provider for regulatory compliance, pharmacovigilance, and medical information services across the full development lifecycle for pharmaceutical, biotechnology, and medical device companies. Operating around the world with offices in Australia, Canada, Germany, Japan, the Netherlands, Sweden, United Kingdom, and the United States, ProPharma Group&amp;rsquo;s fully integrated service offerings will provide clients with a comprehensive suite of global support services that are required to be competitive in today&amp;rsquo;s dynamic markets. We build successful long-term relationships with clients by providing leading industry knowledge, experience, and proven processes.    Job Description    As a QP   RP, you will be named on customers MIA or WDA. The work is independent but requires strong collaboration skills with customers. This is a freelance role.\\n    \\nIn your role as QP RP, you will provide strategic advice, project management, auditing, tech transfers, and qualifications validation support to your customers. You will have the QMS-oversight. RP support for submission of WDA license as well as RP services once WDA-license is granted. You will act as a project lead WDA MIA-applications including writing the QMS, application to the competent authority, and then be named QP RP.\\n    \\nAn open eye for the needs of your customers and the ability to adjust to these needs is essential. It is expected that you are able and willing to dig into the details yet keeping an eye on the overall goal of the project. You are result and clients oriented and have excellent interpersonal skills. You feel comfortable working with deadlines in an often changing environment and likes to solve issues in a pragmatic and proactive way.    Qualifications\\n\\n  \\n  A University degree in Science Engineering is required, preferably MSc in Pharmacy or similar.     5-8 years&amp;rsquo; experience working in QA in a GMP environment, preferably as QP RP.     Experience in functioning as RP on WDA- license.     Experience with local authority inspections and MIA WDA-licenses.     Fluent in English and German.   \\n   \\n\\nAdditional Information    All candidates must be legally eligible to work in Germany.\\n    \\n***ProPharma Group does not accept unsolicited resumes from recruiters third parties. Please, no phone calls or emails to anyone regarding this posting.***',\n",
       "  'Meditrial is a full-service contract research organization with a successful track record supporting medical device and biotechnology companies in all phases of clinical development. Operating throughout Europe to manage trials sponsored primarily by US Companies, we offer highest level expertise across multiple therapeutic areas including notable depth in cardiovascular and respiratory, orthopedics, oncology, CNS, infectious disease, endocrinology, diabetes, among other indications. We are passionate about our mission to support the innovation and development of better therapies in healthcare in compliance with solid ethical standards. Our commitment has resulted in excellent results for business growth by creating stability and opportunities for employees and collaborators.\\n    \\n \\n\\n *---*Clinical Project Manager:  \\n\\n *---*\\n  \\nThe Clinical Project Manager is responsible for the management of all aspects of the Clinical Trial Team activities as assigned project(s). The Clinical Project Manager, in close collaboration with the Project Leader, is accountable for achieving successful deliverables from the clinical team activities while meeting company and regulatory requirements according to time, quality, scope and within budget.\\n    \\n \\n\\n *---*Responsibilities  \\n\\n *---*\\n    \\nProactively manage project level operations, including but not limited to, aspects including management of trial timeline, budget, resources with consideration of quality standards and risk mitigation\\n  \\nProvide efficient and effective updates on trial progress to the Medical Director as requested\\n  \\nLead sponsor study start-up processes, including but not limited to, conduct of the trial kick-off meeting, the set-up of trial master file (TMF), site selection and finalization of site and vendor Clinical Trial Agreements (CTAs) and budgets.\\n  \\nEnsure effective project plans are in place and operational for each trial. Proactively coordinate with the Clinical Trial Team to establish the priorities in accordance with applicable project plans, company standard operational procedures (SOPs), GCP guidelines and regulatory requirements.\\n  \\nAttend trial updat meetings, ensure meeting minutes are completed, distributed to team members and filed in the TMF in a timely manner. Review and approve site visit reports, ensure tracking, follow-up and resolution of site-specific issues have been completed in a timely manner.\\n  \\nMonitor the quality of deliverables, address quality issues with the appropriate team member and identify opportunities to improve training, execution and quality control across the clinical team.\\n    \\n \\n\\n *---*Qualifications  \\n\\n *---*\\n  \\n \\n\\n *---*Education:  \\n\\n *---* Bachelors degree in Life Sciences , Master in health related field is a plus\\n  \\n \\n\\n *---*Languages:  \\n\\n *---* proficiency in oral and written english ( a third language would be appreciated)\\n  \\n \\n\\n *---*Experience:  \\n\\n *---* minimum of three to five (5) years of clinical resarch experience in Project Management, Data Management or Clinical Monitoring. Previous experience in a pharmaceutical, CRO or medical device company required\\n  \\nSound knowledge of GCP CFR ICH guidelines, ISO9001 and ISO14155\\n    \\nPersonal skills\\n  \\nAbility to communicate, problem solve and work effectively in an international team\\n  \\nInnovative and self-motivated\\n  \\nGood organization skills and ability to prioritize goals and responsibilities\\n  \\nAbility to negotiate and communicate with clients in a professional manner\\n    \\nProficient computer skills with the ability to understand and assess technology alternatives and implication for current processes\\n  \\nAbility to be productive and successful in a dynamic work environment',\n",
       "  'Thermo Fisher Scientific Inc. is the world leader in serving science, with annual revenue exceeding $25 billion. Our Mission is to enable our customers to make the world healthier, cleaner and safer. Whether our customers are accelerating life sciences research, solving complex analytical challenges, improving patient diagnostics and therapies or increasing productivity in their laboratories, we are here to support them. Our global team of more than 75,000 colleagues delivers an unrivaled combination of innovative technologies, purchasing convenience and pharmaceutical services through our industry-leading brands, including Thermo Scientific, Applied Biosystems, Invitrogen, Fisher Scientific, Unity Lab Services and Patheon. For more information, please visit www.thermofisher.com.\\n    \\n \\n\\n *---*Location Division Specific Information  \\n\\n *---*\\n    \\nAs one of the largest biotechnology companies in Germany, we research, develop and produce innovative biomarker diagnostics and distribute our products in more than 65 countries. B*R*A*H*M*S is based in Hennigsdorf near Berlin, which is home to about 285 of the company&amp;rsquo;s 550 employees worldwide.\\n    \\n \\n\\n *---*How will you make an impact?  \\n\\n *---*\\n    \\nThe Staff Scientist (m f d), will assist Division, Business Unit and R&amp;amp;D leadership in identifying, assessing and implementing clinical diagnostic innovation opportunities, across its portfolio of Immunoassay, Mass Spectrometry, Clinical Chemistry, Quality Controls and Laboratory Automation solutions. He She will connect internally with Business Development, Marketing, R&amp;amp;D and other functions as well as externally to create novel clinical diagnostic solutions and value through science and technology.\\n    \\n \\n\\n *---*What will you do?  \\n\\n *---*\\n\\n  \\n  Support Clinical Diagnostics Leadership and R&amp;amp;D Council teams in assessing external in vitro diagnostics technology and assay innovation opportunities.   \\n  Assist the Head of R&amp;amp;D, Clinical Diagnostics Division in steering a robust technical and scientific agenda and in formulating recommendations to drive growth through innovation.   \\n  Collaborate with Business Development, Marketing, Life Cycle Leaders and R&amp;amp;D and assist technically and scientifically in the identification, assessment and implementation of external partnership, licensing or acquisition opportunities.   \\n  Champion internal and external collaborative innovation initiatives. Connect with leading academic and medical institutions.   \\n  Lead science and technology projects to successful completion.   \\n   \\n \\n\\n *---*How will you get here?  \\n\\n *---*\\n    \\nEducation\\n\\n  \\n  PhD, MD or equivalent experience   \\n  More than 5 years of professional experience in the invitro diagnostics industry or clinical laboratory medicine   \\n   \\nExperience\\n\\n  \\n  Proven ability to champion science and technology innovation in Health Care   \\n  Prior experience in IVD product development.   \\n   \\nKnowledge, Skills, Abilities\\n\\n  \\n  Robust scientific and technical background. Able to assess complex solutions for their added clinical and business value and benefits and risk profiles.   \\n  Able to communicate with Executive Management and inspire, influence and connect with stakeholders across the organization.   \\n  Strategic and analytical thinker.   \\n  Self-motivated, autonomous and with the initiative needed to explore novel ideas and solutions.   \\n  Results-oriented and thorough. Able to lead, coordinate, collaborate and drive projects to successful completion.   \\n  Excellent written and verbal English communication skills.   \\n   \\nAt Thermo Fisher Scientific, each one of our 75,000 extraordinary minds has a unique story to tell. Join us and contribute to our singular mission&amp;mdash;enabling our customers to make the world healthier, cleaner and safer.',\n",
       "  'At LabTwin we are building the first voice-powered assistant for the biotech field. We apply machine learning and voice recognition technologies to streamline lab documentation. It helps scientists document when their hands are busy by using voice, thus helping them focus on their work and not on tedious documentation.We believe that by simplifying lab documentation, we can contribute to creating more efficient, complete and high-quality research. Our mission is to accelerate scientific discovery and tackle the biggest challenges of our time.\\n    \\nThe core of LabTwin consists of an AI that provides a transcription of what the user said. The manual transcriber is the pillar of this process who checks the AI-based transcription and corrects it to ensure the best result for the user. As German-based freelancer and part of this team you will not only be part of bettering the AI by providing feedback to the team at LabTwin about improvements while conducting your work but also provide the user with the best transcription experience through transcription.\\n    \\n \\n\\n *---*Your tasks:  \\n\\n *---*\\n  \\n   Perform voice-to-text manual transcription of the entries recorded by scientists using our software      Provide structured reporting and feedback to content specialists at LabTwin   \\n   \\n \\n\\n *---*Requirements  \\n\\n *---*\\n  \\n   Completed or ongoing PHD degree in Life Sciences &amp;ndash; preferably with focus on biotechnology      Industry experience in GxP environment      Background in laboratory-based research &amp;ndash; at least 2 years of experience      Good listening comprehension, good understanding of various accents      Typing (45 wpm) and text editing skills      High attention to detail and quality of the process      Good team player      Fluency in written and spoken English      Fluency in written and spoken German is a plus      Capacity to work 10-15 hours per week   \\n   \\n \\n\\n *---*Benefits  \\n\\n *---*\\n  \\n   A team with a great mission: Being part of our mission to help passionate and innovative scientists accelerate scientific discovery. A diverse team of experienced interdisciplinary colleagues including life scientists.      Flexibility: Flexibility in work schedule      Competitive compensation   \\n   ',\n",
       "  '  \\n   \\n\\n *---*The Role  \\n\\n *---*\\n    \\nTesla is looking for a highly motivated laboratory technician to\\n  \\nperform routine quality testing and support failure analysis processes for a\\n  \\nvehicle manufacturing quality lab within Gigafactory Berlin. In this role you would\\n  \\nwork closely with other lab techs under the guidance of lab management to\\n  \\nperform material analysis with the highest standards of safety, quality, and\\n  \\noutput. The work environment is demanding, fast-paced and incredibly exciting.\\n  \\nThe ideal candidate should be ready to push their limits, as they join in\\n  \\nhighly motivated and capable team.\\n    \\nThe position will be based at Gigafactory Berlin.\\n    \\n \\n\\n *---*Responsibilities  \\n\\n *---*\\n  \\n  Work with a team of materials\\n  \\nengineers and technicians performing routine quality and failure analysis testing\\n  \\nin a 24x7 vehicle manufacturing quality laboratory      Perform a variety of routine testing\\n  \\non Drive Unit and Battery Module associated materials following established\\n  \\n \\n\\n *---*procedures including:  \\n\\n *---*\\n\\n  \\n  Visual microscope-assisted\\n  \\ninspections and dimensional measurements     Mechanical properties testing\\n  \\nincluding tensile and shear strength      Particulate contamination     Wide variety of other critical\\n  \\nroutine testing         \\n  Support senior lab staff in failure\\n  \\nanalysis investigations and drive to achieve accurate results as quickly as\\n  \\npossible, all while ensure clear and timely communication of results     Interpret test data and generate\\n  \\ntest reports     Provide input for the continued\\n  \\nimprovement of lab practices and procedures     Maintain inventory of\\n  \\nconsumable supplies     Perform preventative maintenance\\n  \\non equipment as required     Support the Company&amp;rsquo;s mission,\\n  \\nvision, values and goals in performance of daily activities   \\n   \\n \\n\\n *---*Minimum Qualifications:  \\n\\n *---*   \\n  2+ years\\n  \\nexperience working in a quality or physical analysis laboratory      Able to\\n  \\nwork both independently and in a collaborative project-focused environment,\\n  \\nprompt and dependable, and excellent verbal and written communication skills     Detail\\n  \\noriented, excels at performing repetitive tasks where both high degrees of\\n  \\naccuracy and precision are required.      Comfortable\\n  \\nworking with chemicals and hazardous materials in a laboratory environment.     Be both\\n  \\ncapable and willing to perform all the various manual tasks involved with lab work,\\n  \\nsuch as safely moving heavy objects, moving large pallets with a pallet jack, handling\\n  \\nincoming materials, etc.      Strong\\n  \\nworking knowledge of Microsoft Word, PowerPoint, and Excel   \\n   \\n \\n\\n *---*Preferred Additional Qualifications:  \\n\\n *---*   \\n  Bachelor&amp;rsquo;s\\n  \\ndegree preferred in the physical sciences or other relevant science (e.g.\\n  \\nChemistry, Metallurgy, etc)     Demonstrated\\n  \\nexpertise in physical materials analysis and associated quality controls     Previous\\n  \\n \\n\\n *---*experience with:  \\n\\n *---*\\n\\n  \\n  Ultra-high\\n  \\naccuracy digital microscopes. (Example: Keyence VHX, VR, and VKX)     FTIR and\\n  \\nSpark Optical Emission Spectroscopy     Metallography     Instron\\n  \\nmechanical test systems     Calipers     Micrometers     Analytical\\n  \\nBalances     Scanning\\n  \\nElectron Microscopes         \\n  Prior\\n  \\nexperience with vehicle manufacturing and associated materials testing     Broad\\n  \\nbackground in other materials science disciplines     Use of\\n  \\nlaboratory information management systems         \\n   \\n\\n  ',\n",
       "  'Stellenausschreibung &amp;ndash; Referenznummer U200820\\n    \\nUGA Biopharma GmbH ist eine Forschungs- und Entwicklungseinrichtung mit Sitz in Hennigsdorf,\\n  \\nDeutschland. Das Kerngesch&amp;auml;ft des Unternehmens ist die Auftragsentwicklung von Biologika und\\n  \\nBiosimilars. Dies beinhaltet alle notwendigen Schritte von der Zelllinienentwicklung und der\\n  \\nBioprozessentwicklung, Medienentwicklung bis hin zur Entwicklung von Aufreinigungs- und\\n  \\nAnalyseverfahren. Das Unternehmen beliefert seine Kunden im In- und Ausland vom Hauptsitz in\\n  \\nHenningsdorf aus und besitzt bereits mehrere Anwender, welche sich mit UGA Produkten in klinischen\\n  \\nStudien befinden oder bereits eine Marktzulassung erhalten haben.\\n    \\nWir suchen derzeit f&amp;uuml;r unser hochmotiviertes Team schnellstm&amp;ouml;glich Verst&amp;auml;rkung.\\n    \\nAssociate Scientist (m w d)\\n  \\nUpstream Development\\n    \\n \\n\\n *---*Ihre Aufgaben in unserem Team:  \\n\\n *---*\\n\\n\\n  \\n  Eigenst&amp;auml;ndige Planung, Durchf&amp;uuml;hrung und Dokumentation von Zellkulturexperimenten in   \\n   \\n\\nSch&amp;uuml;ttelkolben oder Bioreaktoren in verschiedenen Ma&amp;szlig;st&amp;auml;ben (von 10 mL bis zu 7,5 L) und\\n  \\nProzessformaten wie zum Beispiel Batch, Fed batch und Perfusion\\n\\n\\n  \\n  Optimierung von Bioprozessen hinsichtlich Titer und Qualit&amp;auml;tsattributen bei Kunden- und   \\n   \\n\\nForschungsprojekten\\n\\n\\n  \\n  Literaturrecherche, Entwicklung von Ideen bis hin zur praktischen Anwendung   \\n  Enge Koordination und gute Kommunikation mit den anderen Fachabteilungen   \\n  Erstellung von Reports und Pr&amp;auml;sentationen   \\n  Fachliche Anleitung von technischen Assistenten   \\n  Allgemeine Labororganisation (z. B. Wartung der Ger&amp;auml;te, Bestellungen von   \\n   \\n\\nVerbrauchsmaterialien)\\n\\n\\n  \\n  Unterst&amp;uuml;tzung der Abteilung Qualit&amp;auml;tsmanagement durch Schreiben von SOPs, &amp;Uuml;berwachung   \\n   \\n\\nder Dokumentation und Training von Mitarbeitern\\n    \\n \\n\\n *---*Das sollten Sie mitbringen:  \\n\\n *---*\\n\\n\\n  \\n  Abgeschlossenes Studium (B.Sc. M.Sc.) im Bereich der Biotechnologie, Verfahrenstechnik   \\n   \\n\\noder &amp;auml;hnlichen Studieng&amp;auml;ngen\\n\\n\\n  \\n  Erfahrung im Bereich Zellkultur vorzugsweise im Umgang mit CHO Zellen   \\n  Erfahrung mit Batch, Fed Batch und Perfusionsprozessen in unterschiedlichen   \\n   \\n\\nBioreaktorsystemen, gerne auch auf dem Gebiet der Single-Use Technologien\\n\\n\\n  \\n  Freude an Experimentplanung, -umsetzung und -auswertung   \\n  Engagement und Flexibilit&amp;auml;t sind ein Muss   \\n  Gute MS-Office-Kenntnisse sowie sehr gute Englischkenntnisse werden erwartet   \\n   \\n\\n \\n\\n *---*Wir bieten Ihnen daf&amp;uuml;r:  \\n\\n *---*\\n\\n\\n  \\n  Die Mitarbeit an anspruchsvollen, abwechslungsreichen und klinisch relevanten   \\n   \\n\\nKundenprojekten\\n\\n\\n  \\n  Vielf&amp;auml;ltige M&amp;ouml;glichkeiten, eigene Ideen einzubringen und umzusetzen, getreu dem Motto: Sie   \\n   \\n\\nals Teil des Ganzen!\\n\\n\\n  \\n  Die Zusammenarbeit mit einem dynamischen, motivierten Team in einer jederzeit offenen und   \\n   \\n\\nkommunikativen Arbeitsatmosph&amp;auml;re\\n\\n\\n  \\n  Flexibilit&amp;auml;t bei der Gestaltung Ihres Arbeitsalltags durch eine geltende Gleitzeitregelung   \\n  Einen perfekten Start durch eine strukturierte und sorgf&amp;auml;ltige Einarbeitung   \\n  Die F&amp;ouml;rderung Ihrer Wissbegier durch M&amp;ouml;glichkeit zur Teilnahme an Fort- und Weiterbildungen   \\n  Arbeitgeberfinanzierte betriebliche Altersvorsorge   \\n   \\n\\n \\n\\n *---*Weitere Informationen:  \\n\\n *---*\\n\\n\\n  \\n  Anstellungsbeginn: zum n&amp;auml;chstm&amp;ouml;glichen Zeitpunkt   \\n  Anstellungsdauer: vorerst befristet auf 2 Jahr mit der Option zur Verl&amp;auml;ngerung   \\n  Arbeitsaufkommen: Vollzeit (40 Std.)   \\n  Bewerbungsschluss: 30.09.2020   \\n  Stellen: 1   \\n   \\n\\nMit der UGA Biopharma finden Sie einen Arbeitgeber, der Wert auf Innovation, engagierte\\n  \\nZusammenarbeit aller Abteilungen, offene und hierarchie&amp;uuml;bergreifende Kommunikation und\\n  \\nfamilienbewusste Personalpolitik legt.\\n    \\nDas spricht Sie an? Dann w&amp;uuml;rden wir Sie gerne kennenlernen! Bitte schicken Sie uns Ihre Bewerbung\\n  \\nper E-Mail als zusammenh&amp;auml;ngende PDF-Datei mit Angabe Ihrer Gehaltsvorstellungen an: Sylwia\\n  \\nNaamane (naamane@ugabiopharma.com). Bitte geben Sie auch die oben genannte Referenznummer\\n  \\nund den fr&amp;uuml;hestm&amp;ouml;glichen Eintrittstermin an.',\n",
       "  'Thermo Fisher Scientific Inc. is the world leader in serving science, with annual revenue exceeding $25 billion. Our Mission is to enable our customers to make the world healthier, cleaner and safer. Whether our customers are accelerating life sciences research, solving complex analytical challenges, improving patient diagnostics and therapies or increasing productivity in their laboratories, we are here to support them. Our global team of more than 75,000 colleagues delivers an unrivaled combination of innovative technologies, purchasing convenience and pharmaceutical services through our industry-leading brands, including Thermo Scientific, Applied Biosystems, Invitrogen, Fisher Scientific, Unity Lab Services and Patheon.\\n    \\nAs one of the largest biotechnology companies in Germany, we research, develop and produce innovative biomarker diagnostics and distribute our products in more than 65 countries. B*R*A*H*M*S is based in Hennigsdorf near Berlin, which is home to about 285 of the company&amp;rsquo;s 550 employees worldwide.\\n    \\nStandort Hennigsdorf\\n    \\nWir suchen Sie zur Verst&amp;auml;rkung unseres GMA Teams als\\n    \\nStudienkoordinator (w m d) f&amp;uuml;r klinische Studien im Bereich Biomarker Diagnostik Global Medical Affairs\\n  \\nIn dieser Position koordinieren Sie die Durchf&amp;uuml;hrung klinischer Studien bei Global Medical Affairs in Abstimmungen mit weiteren Abteilungen der Firma und arbeiten eng mit nationalen und internationalen Studienzentren zusammen.\\n    \\nIhre Aufgaben\\n\\n  \\n  Sie sind Teil eines Teams, das die klinische Leistungsf&amp;auml;higkeit und den Nutzen der Thermo Fisher Scientific Biomarker im Kontext klinischer Studien belegt, dokumentiert und wissenschaftlich kommuniziert   publiziert.   \\n  Sie koordinieren eigenverantwortlich die GCP-konforme Durchf&amp;uuml;hrung klinischer Studienprojekte und arbeiten dabei eng mit verschiedenen internen Abteilungen wie Marketing, Regulatory Affairs und Entwicklung sowie externen Partnern zusammen (vorrangig in englischer Sprache).   \\n  Sie erstellen Pr&amp;uuml;f- und Projektpl&amp;auml;ne und &amp;uuml;bernehmen die &amp;Uuml;berwachung und Koordination studienbezogener Aktivit&amp;auml;ten auch hinsichtlich Zeit- und Budgetvorgaben.   \\n  Sie berichten regelm&amp;auml;&amp;szlig;ig &amp;uuml;ber den Projektfortschritt und kommunizieren wichtige Studienaspekte intern und extern.   \\n  Im Rahmen von Ihren Studienprojekten &amp;uuml;bernehmen Sie die Vertragsabwicklung und pflegen den Kontakt zu Meinungsbildnern und externen medizinischen Experten.   \\n  Sie erstellen und aktualisieren Dokumente zur Leistungsbewertung von IVDs (z.B. Literatursuche und -evaluierung, Beurteilung der analytischen und klinischen Leistungsf&amp;auml;higkeit)   \\n   \\nIhre Qualifikationen\\n\\n  \\n  Vorzugsweise Studium  Hochschulabschluss in Biologie, Biochemie; Medizin oder Pharmazie. Alternativ mehrj&amp;auml;hrige Erfahrung als &amp;bdquo;Study Nurse&amp;ldquo;   \\n  Mehrj&amp;auml;hrige Berufserfahrung im Clinical Trial Management insbesondere als CRA, vorzugsweise im Bereich IVD Biomarker mit praktischen Kenntnissen im Projektmanagement   \\n  Fundierte Kenntnisse zu IVD-R, MPG und ICH-GCP   \\n  Erfahrung im Umgang mit regulatorischen Beh&amp;ouml;rden   \\n  Bereitschaft zur L&amp;ouml;sung von vielf&amp;auml;ltigen Aufgaben, die ein flexibles oder systematisches Arbeiten mit akkurater Dokumentation erfordern   \\n  Sehr gute Kommunikationsf&amp;auml;higkeiten   \\n  hohe pers&amp;ouml;nliche Motivation und die F&amp;auml;higkeit unter wechselnden Anforderungen systematisch zu arbeiten   \\n  Grundverst&amp;auml;ndnis von diagnostischen biochemischen bzw. immunologischen Verfahren sowie &amp;uuml;ber IVD resp. Biomarker von Vorteil   \\n  Kenntnisse von klinischen Abl&amp;auml;ufen w&amp;uuml;nschenswert   \\n  Sehr gute englische Sprachkenntnisse in Wort und Schrift   \\n  Bereitschaft zu Dienstreisen(bis zu 30%)   \\n   \\nAt Thermo Fisher Scientific, each one of our 75,000 extraordinary minds has a unique story to tell. Join us and contribute to our singular mission&amp;mdash;enabling our customers to make the world healthier, cleaner and safer.',\n",
       "  'Thermo Fisher Scientific Inc. is the world leader in serving science, with annual revenue exceeding $25 billion. Our Mission is to enable our customers to make the world healthier, cleaner and safer. Whether our customers are accelerating life sciences research, solving complex analytical challenges, improving patient diagnostics and therapies or increasing productivity in their laboratories, we are here to support them. Our global team of more than 75,000 colleagues delivers an unrivaled combination of innovative technologies, purchasing convenience and pharmaceutical services through our industry-leading brands, including Thermo Scientific, Applied Biosystems, Invitrogen, Fisher Scientific, Unity Lab Services and Patheon. For more information, please visit www.thermofisher.com.\\n    \\n \\n\\n *---*Location Division Specific Information  \\n\\n *---*\\n    \\nAs one of the largest biotechnology companies in Germany, we research, develop and produce innovative biomarker diagnostics and distribute our products in more than 65 countries. B*R*A*H*M*S is based in Hennigsdorf near Berlin, which is home to about 285 of the company&amp;rsquo;s 550 employees worldwide.\\n    \\n \\n\\n *---*How will you make an impact?  \\n\\n *---*\\n    \\nThe Staff Scientist (m f d), will assist Division, Business Unit and R&amp;amp;D leadership in identifying, assessing and implementing clinical diagnostic innovation opportunities, across its portfolio of Immunoassay, Mass Spectrometry, Clinical Chemistry, Quality Controls and Laboratory Automation solutions. He She will connect internally with Business Development, Marketing, R&amp;amp;D and other functions as well as externally to create novel clinical diagnostic solutions and value through science and technology.\\n    \\n \\n\\n *---*What will you do?  \\n\\n *---*\\n\\n  \\n  Support Clinical Diagnostics Leadership and R&amp;amp;D Council teams in assessing external in vitro diagnostics technology and assay innovation opportunities.   \\n  Assist the Head of R&amp;amp;D, Clinical Diagnostics Division in steering a robust technical and scientific agenda and in formulating recommendations to drive growth through innovation.   \\n  Collaborate with Business Development, Marketing, Life Cycle Leaders and R&amp;amp;D and assist technically and scientifically in the identification, assessment and implementation of external partnership, licensing or acquisition opportunities.   \\n  Champion internal and external collaborative innovation initiatives. Connect with leading academic and medical institutions.   \\n  Lead science and technology projects to successful completion.   \\n   \\n \\n\\n *---*How will you get here?  \\n\\n *---*\\n    \\nEducation\\n\\n  \\n  PhD, MD or equivalent experience   \\n  More than 5 years of professional experience in the invitro diagnostics industry or clinical laboratory medicine   \\n   \\nExperience\\n\\n  \\n  Proven ability to champion science and technology innovation in Health Care   \\n  Prior experience in IVD product development.   \\n   \\nKnowledge, Skills, Abilities\\n\\n  \\n  Robust scientific and technical background. Able to assess complex solutions for their added clinical and business value and benefits and risk profiles.   \\n  Able to communicate with Executive Management and inspire, influence and connect with stakeholders across the organization.   \\n  Strategic and analytical thinker.   \\n  Self-motivated, autonomous and with the initiative needed to explore novel ideas and solutions.   \\n  Results-oriented and thorough. Able to lead, coordinate, collaborate and drive projects to successful completion.   \\n  Excellent written and verbal English communication skills.   \\n   \\nAt Thermo Fisher Scientific, each one of our 75,000 extraordinary minds has a unique story to tell. Join us and contribute to our singular mission&amp;mdash;enabling our customers to make the world healthier, cleaner and safer.',\n",
       "  'Thermo Fisher Scientific Inc. is the world leader in serving science, with annual revenue exceeding $25 billion. Our Mission is to enable our customers to make the world healthier, cleaner and safer. Whether our customers are accelerating life sciences research, solving complex analytical challenges, improving patient diagnostics and therapies or increasing productivity in their laboratories, we are here to support them. Our global team of more than 75,000 colleagues delivers an unrivaled combination of innovative technologies, purchasing convenience and pharmaceutical services through our industry-leading brands, including Thermo Scientific, Applied Biosystems, Invitrogen, Fisher Scientific, Unity Lab Services and Patheon.\\n    \\nAs one of the largest biotechnology companies in Germany, we research, develop and produce innovative biomarker diagnostics and distribute our products in more than 65 countries. B*R*A*H*M*S is based in Hennigsdorf near Berlin, which is home to about 285 of the company&amp;rsquo;s 550 employees worldwide.\\n    \\nFor our R&amp;amp;D PMO team we are looking for you as our new\\n    \\n \\n\\n *---*Project Manager (m f d) &amp;ndash; IVDR for CDD Biomarkers  \\n\\n *---*\\n    \\nRegion Hennigsdorf Berlin\\n    \\nThis position is responsible for leading the implementation of the new European IVD regulation for the B.R.A.H.M.S. Biomarker Business Unit of Thermo Fisher Scientific&amp;lsquo;s Clinical Diagnostics Division, at a later point leading new product development teams. It requires significant cross-functional coordination and leadership, excellent written and communication skills, and the ability to drive collaboration and decision making with all key stakeholders. The ideal candidate will have strong Project Management skills, be interested to work internationally, able to understand business strategy, regulation and quality systems, diagnostic technology and clinical applications, able to focus at a detailed level and being comfortable interacting with senior executives and project team members alike. We need a passionate Project Manager who will deliver execution excellence, making optimal use of the Thermo Fisher Scientific Phase Gate and other processes. Come help the Thermo Fisher Scientific team deliver world-class products and solutions to our customers to make the world healthier.\\n    \\n \\n\\n *---*A Project Manager&amp;rsquo;s role at Thermo Fisher Scientific   CDD Biomarkers means  \\n\\n *---*\\n\\n  \\n  To manage higher complexity, cross-functional initiatives such as the implementation of IVD R and new product development.   \\n  Representing and leading project teams at our two locations in Hennigsdorf, Germany and Nimes, France through the Phase gate process, managing scope, schedule, risks, issues, trade-offs, decision making, communications, and expectations.    \\n   \\n \\n\\n *---*Your Qualification  \\n\\n *---*\\n\\n  \\n  Bachelor&amp;rsquo;s degree (B.S. B.A.) minimum, preferably in a scientific technical discipline (e.g. biology, chemistry, engineering).   \\n  Minimum of 4 years of experience combined between project management and product development, preferably in the life sciences or health care industries.   \\n  PMP certification preferred.   \\n  Familiarity with In Vitro Diagnostics, Design Control Quality Systems and Immunoassays is a plus.   \\n  Excellent interpersonal and relationship building skills   \\n  Excellent leadership skills and the ability to influence stakeholders in other functions over whom the Project Manager has no direct managing authority.   \\n  Excellent oral and written English communication skills.   \\n   \\n \\n\\n *---*We offer  \\n\\n *---*\\n\\n  \\n  Employment with an innovative, future-oriented, international organization.   \\n  Exciting company culture which stands for integrity, intensity, involvement and innovation.   \\n  Outstanding career and development prospects.   \\n  Company pension scheme.   \\n   \\nAt Thermo Fisher Scientific, each one of our 75,000 extraordinary minds has a unique story to tell. Join us and contribute to our singular mission.',\n",
       "  'Thermo Fisher Scientific Inc. is the world leader in serving science, with annual revenue exceeding $25 billion. Our Mission is to enable our customers to make the world healthier, cleaner and safer. Whether our customers are accelerating life sciences research, solving complex analytical challenges, improving patient diagnostics and therapies or increasing productivity in their laboratories, we are here to support them. Our global team of more than 75,000 colleagues delivers an unrivaled combination of innovative technologies, purchasing convenience and pharmaceutical services through our industry-leading brands, including Thermo Scientific, Applied Biosystems, Invitrogen, Fisher Scientific, Unity Lab Services and Patheon.\\n    \\nAs one of the largest biotechnology companies in Germany, we research, develop and produce innovative biomarker diagnostics and distribute our products in more than 65 countries. B*R*A*H*M*S is based in Hennigsdorf near Berlin, which is home to about 285 of the company&amp;rsquo;s 550 employees worldwide.\\n    \\nStandort Hennigsdorf\\n    \\nWir suchen Sie zur Verst&amp;auml;rkung unseres GMA Teams als\\n    \\nStudienkoordinator (w m d) f&amp;uuml;r klinische Studien im Bereich Biomarker Diagnostik Global Medical Affairs\\n  \\nIn dieser Position koordinieren Sie die Durchf&amp;uuml;hrung klinischer Studien bei Global Medical Affairs in Abstimmungen mit weiteren Abteilungen der Firma und arbeiten eng mit nationalen und internationalen Studienzentren zusammen.\\n    \\nIhre Aufgaben\\n\\n  \\n  Sie sind Teil eines Teams, das die klinische Leistungsf&amp;auml;higkeit und den Nutzen der Thermo Fisher Scientific Biomarker im Kontext klinischer Studien belegt, dokumentiert und wissenschaftlich kommuniziert   publiziert.   \\n  Sie koordinieren eigenverantwortlich die GCP-konforme Durchf&amp;uuml;hrung klinischer Studienprojekte und arbeiten dabei eng mit verschiedenen internen Abteilungen wie Marketing, Regulatory Affairs und Entwicklung sowie externen Partnern zusammen (vorrangig in englischer Sprache).   \\n  Sie erstellen Pr&amp;uuml;f- und Projektpl&amp;auml;ne und &amp;uuml;bernehmen die &amp;Uuml;berwachung und Koordination studienbezogener Aktivit&amp;auml;ten auch hinsichtlich Zeit- und Budgetvorgaben.   \\n  Sie berichten regelm&amp;auml;&amp;szlig;ig &amp;uuml;ber den Projektfortschritt und kommunizieren wichtige Studienaspekte intern und extern.   \\n  Im Rahmen von Ihren Studienprojekten &amp;uuml;bernehmen Sie die Vertragsabwicklung und pflegen den Kontakt zu Meinungsbildnern und externen medizinischen Experten.   \\n  Sie erstellen und aktualisieren Dokumente zur Leistungsbewertung von IVDs (z.B. Literatursuche und -evaluierung, Beurteilung der analytischen und klinischen Leistungsf&amp;auml;higkeit)   \\n   \\nIhre Qualifikationen\\n\\n  \\n  Vorzugsweise Studium  Hochschulabschluss in Biologie, Biochemie; Medizin oder Pharmazie. Alternativ mehrj&amp;auml;hrige Erfahrung als &amp;bdquo;Study Nurse&amp;ldquo;   \\n  Mehrj&amp;auml;hrige Berufserfahrung im Clinical Trial Management insbesondere als CRA, vorzugsweise im Bereich IVD Biomarker mit praktischen Kenntnissen im Projektmanagement   \\n  Fundierte Kenntnisse zu IVD-R, MPG und ICH-GCP   \\n  Erfahrung im Umgang mit regulatorischen Beh&amp;ouml;rden   \\n  Bereitschaft zur L&amp;ouml;sung von vielf&amp;auml;ltigen Aufgaben, die ein flexibles oder systematisches Arbeiten mit akkurater Dokumentation erfordern   \\n  Sehr gute Kommunikationsf&amp;auml;higkeiten   \\n  hohe pers&amp;ouml;nliche Motivation und die F&amp;auml;higkeit unter wechselnden Anforderungen systematisch zu arbeiten   \\n  Grundverst&amp;auml;ndnis von diagnostischen biochemischen bzw. immunologischen Verfahren sowie &amp;uuml;ber IVD resp. Biomarker von Vorteil   \\n  Kenntnisse von klinischen Abl&amp;auml;ufen w&amp;uuml;nschenswert   \\n  Sehr gute englische Sprachkenntnisse in Wort und Schrift   \\n  Bereitschaft zu Dienstreisen(bis zu 30%)   \\n   \\nAt Thermo Fisher Scientific, each one of our 75,000 extraordinary minds has a unique story to tell. Join us and contribute to our singular mission&amp;mdash;enabling our customers to make the world healthier, cleaner and safer.',\n",
       "  'Thermo Fisher Scientific Inc. is the world leader in serving science, with annual revenue exceeding $25 billion. Our Mission is to enable our customers to make the world healthier, cleaner and safer. Whether our customers are accelerating life sciences research, solving complex analytical challenges, improving patient diagnostics and therapies or increasing productivity in their laboratories, we are here to support them. Our global team of more than 75,000 colleagues delivers an unrivaled combination of innovative technologies, purchasing convenience and pharmaceutical services through our industry-leading brands, including Thermo Scientific, Applied Biosystems, Invitrogen, Fisher Scientific, Unity Lab Services and Patheon.\\n    \\nAs one of the largest biotechnology companies in Germany, we research, develop and produce innovative biomarker diagnostics and distribute our products in more than 65 countries. B*R*A*H*M*S is based in Hennigsdorf near Berlin, which is home to about 285 of the company&amp;rsquo;s 550 employees worldwide.\\n    \\nStandort Hennigsdorf\\n    \\nWir suchen Sie zur Verst&amp;auml;rkung unseres GMA Teams als\\n    \\nStudienkoordinator (w m d) f&amp;uuml;r klinische Studien im Bereich Biomarker Diagnostik Global Medical Affairs\\n  \\nIn dieser Position koordinieren Sie die Durchf&amp;uuml;hrung klinischer Studien bei Global Medical Affairs in Abstimmungen mit weiteren Abteilungen der Firma und arbeiten eng mit nationalen und internationalen Studienzentren zusammen.\\n    \\nIhre Aufgaben\\n\\n  \\n  Sie sind Teil eines Teams, das die klinische Leistungsf&amp;auml;higkeit und den Nutzen der Thermo Fisher Scientific Biomarker im Kontext klinischer Studien belegt, dokumentiert und wissenschaftlich kommuniziert   publiziert.   \\n  Sie koordinieren eigenverantwortlich die GCP-konforme Durchf&amp;uuml;hrung klinischer Studienprojekte und arbeiten dabei eng mit verschiedenen internen Abteilungen wie Marketing, Regulatory Affairs und Entwicklung sowie externen Partnern zusammen (vorrangig in englischer Sprache).   \\n  Sie erstellen Pr&amp;uuml;f- und Projektpl&amp;auml;ne und &amp;uuml;bernehmen die &amp;Uuml;berwachung und Koordination studienbezogener Aktivit&amp;auml;ten auch hinsichtlich Zeit- und Budgetvorgaben.   \\n  Sie berichten regelm&amp;auml;&amp;szlig;ig &amp;uuml;ber den Projektfortschritt und kommunizieren wichtige Studienaspekte intern und extern.   \\n  Im Rahmen von Ihren Studienprojekten &amp;uuml;bernehmen Sie die Vertragsabwicklung und pflegen den Kontakt zu Meinungsbildnern und externen medizinischen Experten.   \\n  Sie erstellen und aktualisieren Dokumente zur Leistungsbewertung von IVDs (z.B. Literatursuche und -evaluierung, Beurteilung der analytischen und klinischen Leistungsf&amp;auml;higkeit)   \\n   \\nIhre Qualifikationen\\n\\n  \\n  Vorzugsweise Studium  Hochschulabschluss in Biologie, Biochemie; Medizin oder Pharmazie. Alternativ mehrj&amp;auml;hrige Erfahrung als &amp;bdquo;Study Nurse&amp;ldquo;   \\n  Mehrj&amp;auml;hrige Berufserfahrung im Clinical Trial Management insbesondere als CRA, vorzugsweise im Bereich IVD Biomarker mit praktischen Kenntnissen im Projektmanagement   \\n  Fundierte Kenntnisse zu IVD-R, MPG und ICH-GCP   \\n  Erfahrung im Umgang mit regulatorischen Beh&amp;ouml;rden   \\n  Bereitschaft zur L&amp;ouml;sung von vielf&amp;auml;ltigen Aufgaben, die ein flexibles oder systematisches Arbeiten mit akkurater Dokumentation erfordern   \\n  Sehr gute Kommunikationsf&amp;auml;higkeiten   \\n  hohe pers&amp;ouml;nliche Motivation und die F&amp;auml;higkeit unter wechselnden Anforderungen systematisch zu arbeiten   \\n  Grundverst&amp;auml;ndnis von diagnostischen biochemischen bzw. immunologischen Verfahren sowie &amp;uuml;ber IVD resp. Biomarker von Vorteil   \\n  Kenntnisse von klinischen Abl&amp;auml;ufen w&amp;uuml;nschenswert   \\n  Sehr gute englische Sprachkenntnisse in Wort und Schrift   \\n  Bereitschaft zu Dienstreisen(bis zu 30%)   \\n   \\nAt Thermo Fisher Scientific, each one of our 75,000 extraordinary minds has a unique story to tell. Join us and contribute to our singular mission&amp;mdash;enabling our customers to make the world healthier, cleaner and safer.'],\n",
       " [datetime.datetime(2020, 8, 13, 10, 33, 49, 905856),\n",
       "  datetime.datetime(2020, 8, 13, 10, 33, 52, 567361),\n",
       "  datetime.datetime(2020, 8, 13, 10, 33, 55, 805928),\n",
       "  datetime.datetime(2020, 8, 13, 10, 33, 58, 405692),\n",
       "  datetime.datetime(2020, 8, 13, 10, 34, 0, 985000),\n",
       "  datetime.datetime(2020, 8, 13, 10, 34, 3, 200629),\n",
       "  datetime.datetime(2020, 8, 13, 10, 34, 5, 843416),\n",
       "  datetime.datetime(2020, 8, 13, 10, 34, 8, 207646),\n",
       "  datetime.datetime(2020, 8, 13, 10, 34, 11, 102015),\n",
       "  datetime.datetime(2020, 8, 13, 10, 34, 14, 62456),\n",
       "  datetime.datetime(2020, 8, 13, 10, 34, 16, 230513),\n",
       "  datetime.datetime(2020, 8, 13, 10, 34, 18, 721560),\n",
       "  datetime.datetime(2020, 8, 13, 10, 34, 21, 389109),\n",
       "  datetime.datetime(2020, 8, 13, 10, 34, 24, 200966),\n",
       "  datetime.datetime(2020, 8, 13, 10, 34, 26, 782488)],\n",
       " ['2020-08-12',\n",
       "  '2020-08-11',\n",
       "  '2020-08-13',\n",
       "  '2020-08-11',\n",
       "  '2020-08-13',\n",
       "  '2020-08-13',\n",
       "  '2020-08-12',\n",
       "  '2020-08-11',\n",
       "  '2020-08-13',\n",
       "  '2020-08-13',\n",
       "  '2020-08-12',\n",
       "  '2020-08-12',\n",
       "  '2020-08-12',\n",
       "  '2020-08-12',\n",
       "  '2020-08-12'],\n",
       " ['2020-09-12',\n",
       "  '2020-09-12',\n",
       "  '2020-09-12',\n",
       "  '2020-09-12',\n",
       "  '2020-09-12',\n",
       "  '2020-09-12',\n",
       "  '2020-09-12',\n",
       "  '2020-09-12',\n",
       "  '2020-09-12',\n",
       "  '2020-09-12',\n",
       "  '2020-09-12',\n",
       "  '2020-09-12',\n",
       "  '2020-09-12',\n",
       "  '2020-09-12',\n",
       "  '2020-09-12'],\n",
       " ['https://www.glassdoor.de/job-listing/project-manager-mfd-ivdr-for-cdd-biomarkers-location-hennigsdorf-thermo-fisher-scientific-JV_IC2622109_KO0,64_KE65,89.htm?jl=3645441864',\n",
       "  'https://www.glassdoor.de/job-listing/1648-director-of-business-development-certara-JV_IC2622109_KO0,37_KE38,45.htm?jl=3537103654',\n",
       "  'https://www.glassdoor.de/job-listing/clinical-research-associate-meditrial-europe-JV_IC2622109_KO0,27_KE28,44.htm?jl=3270331462',\n",
       "  'https://www.glassdoor.de/job-listing/ai-research-associate-mfd-full-time-in-karlsruhe-freiburg-tübingen-stuttgart-smart-steel-technologies-gmbh-JV_IC2622109_KO0,76_KE77,106.htm?jl=3601032394',\n",
       "  'https://www.glassdoor.de/job-listing/freelance-qp-rp-consultant-propharma-group-JV_IC2622109_KO0,26_KE27,42.htm?jl=3602915822',\n",
       "  'https://www.glassdoor.de/job-listing/clinical-project-manager-meditrial-europe-JV_IC2622109_KO0,24_KE25,41.htm?jl=3270331472',\n",
       "  'https://www.glassdoor.de/job-listing/cdd-staff-scientist-mfd-location-hennigsdorf-thermo-fisher-scientific-JV_IC2622109_KO0,44_KE45,69.htm?jl=3645441878',\n",
       "  'https://www.glassdoor.de/job-listing/freelancer-manual-transcription-germany-based-labtwin-JV_IC2622109_KO0,45_KE46,53.htm?jl=3622906305',\n",
       "  'https://www.glassdoor.de/job-listing/laboratory-technician-mwd-gigafactory-berlin-tesla-JV_IC4990686_KO0,44_KE45,50.htm?jl=3646103402',\n",
       "  'https://www.glassdoor.de/job-listing/associate-scientist-mwd-upstream-development-uga-biopharma-JV_IC2699187_KO0,44_KE45,58.htm?jl=3645950523',\n",
       "  'https://www.glassdoor.de/job-listing/studienkoordinator-clinical-trial-coordinator-mwd-standort-hennigsdorf-thermo-fisher-scientific-JV_IC2622109_KO0,70_KE71,95.htm?jl=3645441863',\n",
       "  'https://www.glassdoor.de/job-listing/cdd-staff-scientist-mfd-thermo-fisher-scientific-JV_IC2699187_KO0,23_KE24,48.htm?jl=3645441889',\n",
       "  'https://www.glassdoor.de/job-listing/project-manager-mfd-ivdr-for-cdd-biomarkers-thermo-fisher-scientific-JV_IC2699187_KO0,43_KE44,68.htm?jl=3645441875',\n",
       "  'https://www.glassdoor.de/job-listing/studienkoordinator-clinical-trial-coordinator-mwd-standort-hennigsdorf-berlin-thermo-fisher-scientific-JV_IC2712850_KO0,77_KE78,102.htm?jl=3645441867',\n",
       "  'https://www.glassdoor.de/job-listing/studienkoordinator-clinical-trial-coordinator-mwd-thermo-fisher-scientific-JV_IC2699187_KO0,49_KE50,74.htm?jl=3645441881'],\n",
       " ['16',\n",
       "  '16',\n",
       "  '16',\n",
       "  '16',\n",
       "  '16',\n",
       "  '16',\n",
       "  '16',\n",
       "  '16',\n",
       "  '11',\n",
       "  '11',\n",
       "  '16',\n",
       "  '11',\n",
       "  '11',\n",
       "  '11',\n",
       "  '11'],\n",
       " ['52.5177',\n",
       "  '52.5177',\n",
       "  '52.5177',\n",
       "  '52.5177',\n",
       "  '52.5177',\n",
       "  '52.5177',\n",
       "  '52.5177',\n",
       "  '52.5177',\n",
       "  '52.4255',\n",
       "  '52.6391',\n",
       "  '52.5177',\n",
       "  '52.6391',\n",
       "  '52.6391',\n",
       "  '52.4004',\n",
       "  '52.6391'],\n",
       " ['13.4055',\n",
       "  '13.4055',\n",
       "  '13.4055',\n",
       "  '13.4055',\n",
       "  '13.4055',\n",
       "  '13.4055',\n",
       "  '13.4055',\n",
       "  '13.4055',\n",
       "  '13.8228',\n",
       "  '13.209',\n",
       "  '13.4055',\n",
       "  '13.209',\n",
       "  '13.209',\n",
       "  '13.0536',\n",
       "  '13.209'],\n",
       " [])"
      ]
     },
     "execution_count": 21,
     "metadata": {},
     "output_type": "execute_result"
    }
   ],
   "source": [
    "populate_temp_tables(res)"
   ]
  },
  {
   "cell_type": "code",
   "execution_count": 31,
   "metadata": {},
   "outputs": [],
   "source": [
    "# ====================creating pandas dataframe with all the temp tables populated before"
   ]
  },
  {
   "cell_type": "code",
   "execution_count": 22,
   "metadata": {},
   "outputs": [],
   "source": [
    "jobs_glassdoor = pd.DataFrame({'job_name' : job,\n",
    "                               'company_name' : company,\n",
    "                               'job_descr' : job_d,\n",
    "                               'timestamp': time_s,\n",
    "                               'datePosted': datePosted_t,\n",
    "                               'validThrough' : validThrough_t,\n",
    "                               'job_url' : job_url_t,\n",
    "                               'place_name' : place,\n",
    "                               'place_name_region' : place_name_region_t,\n",
    "                               'latitude_' : latitude_t,\n",
    "                               'longitude' : longitude_t})"
   ]
  },
  {
   "cell_type": "code",
   "execution_count": null,
   "metadata": {},
   "outputs": [],
   "source": []
  },
  {
   "cell_type": "code",
   "execution_count": 23,
   "metadata": {},
   "outputs": [
    {
     "name": "stdout",
     "output_type": "stream",
     "text": [
      "<class 'pandas.core.frame.DataFrame'>\n",
      "RangeIndex: 15 entries, 0 to 14\n",
      "Data columns (total 11 columns):\n",
      " #   Column             Non-Null Count  Dtype         \n",
      "---  ------             --------------  -----         \n",
      " 0   job_name           15 non-null     object        \n",
      " 1   company_name       15 non-null     object        \n",
      " 2   job_descr          15 non-null     object        \n",
      " 3   timestamp          15 non-null     datetime64[ns]\n",
      " 4   datePosted         15 non-null     object        \n",
      " 5   validThrough       15 non-null     object        \n",
      " 6   job_url            15 non-null     object        \n",
      " 7   place_name         15 non-null     object        \n",
      " 8   place_name_region  15 non-null     object        \n",
      " 9   latitude_          15 non-null     object        \n",
      " 10  longitude          15 non-null     object        \n",
      "dtypes: datetime64[ns](1), object(10)\n",
      "memory usage: 1.4+ KB\n"
     ]
    }
   ],
   "source": [
    "jobs_glassdoor.info() #double checking "
   ]
  },
  {
   "cell_type": "code",
   "execution_count": 24,
   "metadata": {},
   "outputs": [],
   "source": [
    "# generating file name with timestamp info for later comparison\n",
    "def gen_h5_file_with_timestamp(name='name'):\n",
    "    timestamp = datetime.datetime.now()\n",
    "    ts1 = timestamp.strftime(\"%A%d%B%Y%m\")\n",
    "    ts2 = timestamp.strftime(\"%H\")\n",
    "    ts3 = timestamp.strftime(\"%M\")\n",
    "    ts4 = timestamp.strftime(\"%S\")\n",
    "    file_name= name + ts1 +\"-\"+ ts2+\"-\"+ ts3+\"-\"+ ts4+\".h5\"\n",
    "    return file_name\n"
   ]
  },
  {
   "cell_type": "code",
   "execution_count": 27,
   "metadata": {},
   "outputs": [
    {
     "data": {
      "text/plain": [
       "'glassdoor-Thursday13August202008-10-35-23.h5'"
      ]
     },
     "execution_count": 27,
     "metadata": {},
     "output_type": "execute_result"
    }
   ],
   "source": [
    "file_name= gen_h5_file_with_timestamp(name='glassdoor-')\n",
    "file_name"
   ]
  },
  {
   "cell_type": "code",
   "execution_count": null,
   "metadata": {},
   "outputs": [],
   "source": [
    "# saving dataframe in .h5 file for later use\n",
    "jobs_glassdoor.to_hdf('./glass/'+file_name, key='df', mode='w') "
   ]
  },
  {
   "cell_type": "code",
   "execution_count": 37,
   "metadata": {},
   "outputs": [],
   "source": [
    "# loading last( creation time) two dfs for comparison\n",
    "def read_two_last_dfs():\n",
    "    files_sorted=list_per_time()\n",
    "    f1=files_sorted[-2:-1]\n",
    "    f2=files_sorted[-1:]\n",
    "    df1=pd.read_hdf(f1[0], 'df')\n",
    "    df2=pd.read_hdf(f2[0], 'df')\n",
    "    return df1, df2"
   ]
  },
  {
   "cell_type": "code",
   "execution_count": 38,
   "metadata": {},
   "outputs": [
    {
     "name": "stdout",
     "output_type": "stream",
     "text": [
      "['/home/lubuntu/scrap/glass/glassdoor-Wednesday29July202007-11-45-38.h5', '/home/lubuntu/scrap/glass/glassdoor-Wednesday29July202007-11-46-53.h5']\n"
     ]
    }
   ],
   "source": [
    "df1, df2=read_two_last_dfs()"
   ]
  },
  {
   "cell_type": "code",
   "execution_count": null,
   "metadata": {},
   "outputs": [],
   "source": [
    "# overview of loaded dfs\n",
    "df1.info(), df2.info()"
   ]
  },
  {
   "cell_type": "code",
   "execution_count": 40,
   "metadata": {},
   "outputs": [
    {
     "data": {
      "text/plain": [
       "0    False\n",
       "1    False\n",
       "2    False\n",
       "3    False\n",
       "4    False\n",
       "5    False\n",
       "6    False\n",
       "Name: job_url, dtype: bool"
      ]
     },
     "execution_count": 40,
     "metadata": {},
     "output_type": "execute_result"
    }
   ],
   "source": [
    "# checking what new/diffrent records(False) are new in df2\n",
    "df2['job_url'].isin(df1['job_url'])"
   ]
  },
  {
   "cell_type": "code",
   "execution_count": 41,
   "metadata": {},
   "outputs": [
    {
     "data": {
      "text/html": [
       "<div>\n",
       "<style scoped>\n",
       "    .dataframe tbody tr th:only-of-type {\n",
       "        vertical-align: middle;\n",
       "    }\n",
       "\n",
       "    .dataframe tbody tr th {\n",
       "        vertical-align: top;\n",
       "    }\n",
       "\n",
       "    .dataframe thead th {\n",
       "        text-align: right;\n",
       "    }\n",
       "</style>\n",
       "<table border=\"1\" class=\"dataframe\">\n",
       "  <thead>\n",
       "    <tr style=\"text-align: right;\">\n",
       "      <th></th>\n",
       "      <th>job_name</th>\n",
       "      <th>company_name</th>\n",
       "      <th>job_descr</th>\n",
       "      <th>timestamp</th>\n",
       "      <th>datePosted</th>\n",
       "      <th>validThrough</th>\n",
       "      <th>job_url</th>\n",
       "      <th>place_name</th>\n",
       "      <th>place_name_region</th>\n",
       "      <th>latitude_</th>\n",
       "      <th>longitude</th>\n",
       "    </tr>\n",
       "  </thead>\n",
       "  <tbody>\n",
       "    <tr>\n",
       "      <th>0</th>\n",
       "      <td>DM.132.20b Research Associate (Postdoc) - Chro...</td>\n",
       "      <td>Charité</td>\n",
       "      <td>Unternehmensbeschreibung       Die Charit&amp;am...</td>\n",
       "      <td>2020-07-29 11:46:26.861771</td>\n",
       "      <td>2020-07-29</td>\n",
       "      <td>2020-08-28</td>\n",
       "      <td>https://www.glassdoor.de/job-listing/dm-132-20...</td>\n",
       "      <td>Berlin</td>\n",
       "      <td>16</td>\n",
       "      <td>52.5177</td>\n",
       "      <td>13.4055</td>\n",
       "    </tr>\n",
       "    <tr>\n",
       "      <th>1</th>\n",
       "      <td>Senior Specialist, Apheresis Audit - Germany (...</td>\n",
       "      <td>Bristol-Myers Squibb</td>\n",
       "      <td>At Bristol Myers Squibb, we are inspired by a ...</td>\n",
       "      <td>2020-07-29 11:46:29.257026</td>\n",
       "      <td>2020-07-28</td>\n",
       "      <td>2020-08-28</td>\n",
       "      <td>https://www.glassdoor.de/job-listing/senior-sp...</td>\n",
       "      <td>Berlin</td>\n",
       "      <td>16</td>\n",
       "      <td>52.5177</td>\n",
       "      <td>13.4055</td>\n",
       "    </tr>\n",
       "    <tr>\n",
       "      <th>2</th>\n",
       "      <td>Head of External Activation and Identity Manag...</td>\n",
       "      <td>Bayer</td>\n",
       "      <td>\\n\\n *---*Bayer is a global enterprise with c...</td>\n",
       "      <td>2020-07-29 11:46:31.373281</td>\n",
       "      <td>2020-07-29</td>\n",
       "      <td>2020-08-28</td>\n",
       "      <td>https://www.glassdoor.de/job-listing/head-of-e...</td>\n",
       "      <td>Berlin</td>\n",
       "      <td>16</td>\n",
       "      <td>52.5177</td>\n",
       "      <td>13.4055</td>\n",
       "    </tr>\n",
       "    <tr>\n",
       "      <th>3</th>\n",
       "      <td>FRONT END DEVELOPER (M/F/D)</td>\n",
       "      <td>Clincase</td>\n",
       "      <td>Clincase is currently seeking a Front End Deve...</td>\n",
       "      <td>2020-07-29 11:46:33.890353</td>\n",
       "      <td>2020-07-28</td>\n",
       "      <td>2020-08-28</td>\n",
       "      <td>https://www.glassdoor.de/job-listing/front-end...</td>\n",
       "      <td>Berlin</td>\n",
       "      <td>16</td>\n",
       "      <td>52.5177</td>\n",
       "      <td>13.4055</td>\n",
       "    </tr>\n",
       "    <tr>\n",
       "      <th>4</th>\n",
       "      <td>Senior Manager Health Economics &amp; Market Acces...</td>\n",
       "      <td>BIOTRONIK</td>\n",
       "      <td>BIOTRONIK is one of the leading manufacturers ...</td>\n",
       "      <td>2020-07-29 11:46:36.100561</td>\n",
       "      <td>2020-07-29</td>\n",
       "      <td>2020-08-28</td>\n",
       "      <td>https://www.glassdoor.de/job-listing/senior-ma...</td>\n",
       "      <td>Berlin</td>\n",
       "      <td>16</td>\n",
       "      <td>52.5177</td>\n",
       "      <td>13.4055</td>\n",
       "    </tr>\n",
       "    <tr>\n",
       "      <th>5</th>\n",
       "      <td>Laboratory technician (m/f/d)</td>\n",
       "      <td>PERMACON GmbH Berlin</td>\n",
       "      <td>We are hiring\\n    \\nAt PERMACON you will find...</td>\n",
       "      <td>2020-07-29 11:46:38.113918</td>\n",
       "      <td>2020-07-28</td>\n",
       "      <td>2020-08-28</td>\n",
       "      <td>https://www.glassdoor.de/job-listing/laborator...</td>\n",
       "      <td>Berlin</td>\n",
       "      <td>16</td>\n",
       "      <td>52.5177</td>\n",
       "      <td>13.4055</td>\n",
       "    </tr>\n",
       "    <tr>\n",
       "      <th>6</th>\n",
       "      <td>Senior scientist (m/f/d)</td>\n",
       "      <td>PERMACON GmbH Berlin</td>\n",
       "      <td>We are hiring\\n    \\nAt PERMACON you will find...</td>\n",
       "      <td>2020-07-29 11:46:41.419087</td>\n",
       "      <td>2020-07-28</td>\n",
       "      <td>2020-08-28</td>\n",
       "      <td>https://www.glassdoor.de/job-listing/senior-sc...</td>\n",
       "      <td>Berlin</td>\n",
       "      <td>16</td>\n",
       "      <td>52.5177</td>\n",
       "      <td>13.4055</td>\n",
       "    </tr>\n",
       "  </tbody>\n",
       "</table>\n",
       "</div>"
      ],
      "text/plain": [
       "                                            job_name          company_name  \\\n",
       "0  DM.132.20b Research Associate (Postdoc) - Chro...               Charité   \n",
       "1  Senior Specialist, Apheresis Audit - Germany (...  Bristol-Myers Squibb   \n",
       "2  Head of External Activation and Identity Manag...                 Bayer   \n",
       "3                        FRONT END DEVELOPER (M/F/D)              Clincase   \n",
       "4  Senior Manager Health Economics & Market Acces...             BIOTRONIK   \n",
       "5                      Laboratory technician (m/f/d)  PERMACON GmbH Berlin   \n",
       "6                           Senior scientist (m/f/d)  PERMACON GmbH Berlin   \n",
       "\n",
       "                                           job_descr  \\\n",
       "0    Unternehmensbeschreibung       Die Charit&am...   \n",
       "1  At Bristol Myers Squibb, we are inspired by a ...   \n",
       "2   \\n\\n *---*Bayer is a global enterprise with c...   \n",
       "3  Clincase is currently seeking a Front End Deve...   \n",
       "4  BIOTRONIK is one of the leading manufacturers ...   \n",
       "5  We are hiring\\n    \\nAt PERMACON you will find...   \n",
       "6  We are hiring\\n    \\nAt PERMACON you will find...   \n",
       "\n",
       "                   timestamp  datePosted validThrough  \\\n",
       "0 2020-07-29 11:46:26.861771  2020-07-29   2020-08-28   \n",
       "1 2020-07-29 11:46:29.257026  2020-07-28   2020-08-28   \n",
       "2 2020-07-29 11:46:31.373281  2020-07-29   2020-08-28   \n",
       "3 2020-07-29 11:46:33.890353  2020-07-28   2020-08-28   \n",
       "4 2020-07-29 11:46:36.100561  2020-07-29   2020-08-28   \n",
       "5 2020-07-29 11:46:38.113918  2020-07-28   2020-08-28   \n",
       "6 2020-07-29 11:46:41.419087  2020-07-28   2020-08-28   \n",
       "\n",
       "                                             job_url place_name  \\\n",
       "0  https://www.glassdoor.de/job-listing/dm-132-20...     Berlin   \n",
       "1  https://www.glassdoor.de/job-listing/senior-sp...     Berlin   \n",
       "2  https://www.glassdoor.de/job-listing/head-of-e...     Berlin   \n",
       "3  https://www.glassdoor.de/job-listing/front-end...     Berlin   \n",
       "4  https://www.glassdoor.de/job-listing/senior-ma...     Berlin   \n",
       "5  https://www.glassdoor.de/job-listing/laborator...     Berlin   \n",
       "6  https://www.glassdoor.de/job-listing/senior-sc...     Berlin   \n",
       "\n",
       "  place_name_region latitude_ longitude  \n",
       "0                16   52.5177   13.4055  \n",
       "1                16   52.5177   13.4055  \n",
       "2                16   52.5177   13.4055  \n",
       "3                16   52.5177   13.4055  \n",
       "4                16   52.5177   13.4055  \n",
       "5                16   52.5177   13.4055  \n",
       "6                16   52.5177   13.4055  "
      ]
     },
     "execution_count": 41,
     "metadata": {},
     "output_type": "execute_result"
    }
   ],
   "source": [
    "# checking what records are new in df2 compared to df1(~not in) as overview\n",
    "df2.loc[~df2['job_url'].isin(df1['job_url'])]"
   ]
  },
  {
   "cell_type": "code",
   "execution_count": 42,
   "metadata": {
    "scrolled": true
   },
   "outputs": [
    {
     "name": "stdout",
     "output_type": "stream",
     "text": [
      "=============links to new jobs since last checking=============\n",
      "\n",
      "0 --> https://www.glassdoor.de/job-listing/dm-132-20b-research-associate-postdoc-chronic-and-genetic-kidney-disease-charité-JV_IC2622109_KO0,72_KE73,80.htm?jl=3636213042\n",
      "1 --> https://www.glassdoor.de/job-listing/senior-specialist-apheresis-audit-germany-location-flexible-bristol-myers-squibb-JV_IC2622109_KO0,59_KE60,80.htm?jl=3635357570\n",
      "2 --> https://www.glassdoor.de/job-listing/head-of-external-activation-and-identity-management-director-bayer-JV_IC2622109_KO0,60_KE61,66.htm?jl=3548761211\n",
      "3 --> https://www.glassdoor.de/job-listing/front-end-developer-mfd-clincase-JV_IC2622109_KO0,23_KE24,32.htm?jl=3589386064\n",
      "4 --> https://www.glassdoor.de/job-listing/senior-manager-health-economics-market-access-mfd-biotronik-JV_IC2622109_KO0,49_KE50,59.htm?jl=3612941022\n",
      "5 --> https://www.glassdoor.de/job-listing/laboratory-technician-mfd-permacon-gmbh-berlin-JV_IC2622109_KO0,25_KE26,46.htm?jl=3635236464\n",
      "6 --> https://www.glassdoor.de/job-listing/senior-scientist-mfd-permacon-gmbh-berlin-JV_IC2622109_KO0,20_KE21,41.htm?jl=3635236475\n"
     ]
    }
   ],
   "source": [
    "print('=============links to new jobs since last checking=============\\n')\n",
    "for x,item in enumerate(df2.job_url.values[~df2['job_url'].isin(df1['job_url'])]):\n",
    "    print(x, '-->',item )"
   ]
  },
  {
   "cell_type": "code",
   "execution_count": 46,
   "metadata": {},
   "outputs": [],
   "source": [
    "# generating file name with timestamp info for later comparison\n",
    "def gen_md_file_with_timestamp(name='name'):\n",
    "    timestamp = datetime.datetime.now()\n",
    "    ts1 = timestamp.strftime(\"%A%d%B%Y%m\")\n",
    "    ts2 = timestamp.strftime(\"%H\")\n",
    "    ts3 = timestamp.strftime(\"%M\")\n",
    "    ts4 = timestamp.strftime(\"%S\")\n",
    "    file_name= name + ts1 +\"-\"+ ts2+\"-\"+ ts3+\"-\"+ ts4+\".md\"\n",
    "    return file_name"
   ]
  },
  {
   "cell_type": "code",
   "execution_count": 47,
   "metadata": {},
   "outputs": [
    {
     "data": {
      "text/plain": [
       "'selected-bio-Wednesday29July202007-11-49-51.md'"
      ]
     },
     "execution_count": 47,
     "metadata": {},
     "output_type": "execute_result"
    }
   ],
   "source": [
    "md_file_name= gen_md_file_with_timestamp(name='selected-bio-')\n",
    "md_file_name"
   ]
  },
  {
   "cell_type": "markdown",
   "metadata": {},
   "source": [
    "====list of the interesting columns which should be displayed processes"
   ]
  },
  {
   "cell_type": "code",
   "execution_count": 48,
   "metadata": {},
   "outputs": [],
   "source": [
    "l3= list(df2.job_name.values+'    \\n'+df2.company_name.values+ '    \\n'+df2.job_url.values+'   '+df2.job_descr.values)"
   ]
  },
  {
   "cell_type": "code",
   "execution_count": 49,
   "metadata": {},
   "outputs": [],
   "source": [
    "timestamp = datetime.datetime.now()\n",
    "ts1 = timestamp.strftime(\"%Y-%m-%d\")\n",
    "\n",
    "def df_date_filter(_date= ts1): # you could give date in a format '2020-07-21'\n",
    "    \n",
    "\n",
    "    l4= list(df2.job_name.values[df2.datePosted==ts1]+\n",
    "             '    \\n'+df2.company_name.values[df2.datePosted==ts1]+\n",
    "             '    \\n'+df2.job_url.values[df2.datePosted==ts1]+\n",
    "             '    \\n'+df2.job_descr.values[df2.datePosted==ts1])\n",
    "    return l4\n"
   ]
  },
  {
   "cell_type": "code",
   "execution_count": 52,
   "metadata": {},
   "outputs": [],
   "source": [
    "def save_Table_to_file(temp_file=l3): #saving content to md file\n",
    "    \n",
    "    with open('./glass/'+md_file_name, 'a') as f:\n",
    "        for x, item in enumerate(temp_file):\n",
    "            temp= '\\n'+'> ##  Job nr:'+str(x+1)+ '/'+str(len(temp_file))+'------------------------------   \\n'\n",
    "            temp1='    \\n'\n",
    "            f.write(temp)\n",
    "            f.write(md_file_name) \n",
    "            f.write(temp1)\n",
    "            f.write(\"%s\\n\" % item)"
   ]
  },
  {
   "cell_type": "markdown",
   "metadata": {},
   "source": [
    "========Saving subset of jobs from today"
   ]
  },
  {
   "cell_type": "code",
   "execution_count": 53,
   "metadata": {},
   "outputs": [],
   "source": [
    "save_Table_to_file(df_date_filter(_date= ts1)) # you could give date in a format '2020-07-21'"
   ]
  },
  {
   "cell_type": "markdown",
   "metadata": {},
   "source": [
    "========Saving subset of jobs from particular day\n"
   ]
  },
  {
   "cell_type": "code",
   "execution_count": 54,
   "metadata": {},
   "outputs": [],
   "source": [
    "save_Table_to_file(df_date_filter(_date= '2020-07-29')) "
   ]
  },
  {
   "cell_type": "markdown",
   "metadata": {},
   "source": [
    "====There is possibility to define a uiversal filter between df1 and df2 ie between the present and last df\n"
   ]
  },
  {
   "cell_type": "code",
   "execution_count": 55,
   "metadata": {},
   "outputs": [],
   "source": [
    "filter1= ~df2['job_url'].isin(df1['job_url'])\n",
    "\n",
    "filter2= df2.datePosted=='2020-07-29'"
   ]
  },
  {
   "cell_type": "code",
   "execution_count": 56,
   "metadata": {},
   "outputs": [],
   "source": [
    "\n",
    "def df_difference_filter(filter=filter1): # you could give date in a format '2020-07-21'\n",
    "    \n",
    "\n",
    "    l4= list(df2.job_name.values[filter]+\n",
    "             '    \\n'+df2.company_name.values[filter]+\n",
    "             '    \\n'+df2.job_url.values[filter]+\n",
    "             '    \\n'+df2.job_descr.values[filter])\n",
    "    return l4\n"
   ]
  },
  {
   "cell_type": "code",
   "execution_count": 57,
   "metadata": {},
   "outputs": [],
   "source": [
    "# generate file with diffrence to last \n",
    "md_file_name= gen_md_file_with_timestamp(name='selected-ml-diffrerence-')\n",
    "md_file_name\n",
    "save_Table_to_file(df_difference_filter(filter1)) "
   ]
  },
  {
   "cell_type": "code",
   "execution_count": null,
   "metadata": {},
   "outputs": [],
   "source": []
  }
 ],
 "metadata": {
  "kernelspec": {
   "display_name": "Python 3",
   "language": "python",
   "name": "python3"
  },
  "language_info": {
   "codemirror_mode": {
    "name": "ipython",
    "version": 3
   },
   "file_extension": ".py",
   "mimetype": "text/x-python",
   "name": "python",
   "nbconvert_exporter": "python",
   "pygments_lexer": "ipython3",
   "version": "3.7.3"
  }
 },
 "nbformat": 4,
 "nbformat_minor": 4
}
